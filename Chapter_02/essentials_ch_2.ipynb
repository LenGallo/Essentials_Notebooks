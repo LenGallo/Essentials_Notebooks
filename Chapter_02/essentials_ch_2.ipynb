{
 "cells": [
  {
   "cell_type": "markdown",
   "metadata": {},
   "source": [
    "## IPython Notebook for turning in solutions to the problems in the Essentials of Paleomagnetism Textbook by L. Tauxe"
   ]
  },
  {
   "cell_type": "markdown",
   "metadata": {},
   "source": [
    "## Problems in Chapter 2"
   ]
  },
  {
   "cell_type": "markdown",
   "metadata": {},
   "source": [
    "### Problem 1a:   write a script to convert declination, inclination, intensity data to North, East and Down.  First we need to import numpy, the module with lots of math functions and pandas with nice data manipulation functions"
   ]
  },
  {
   "cell_type": "code",
   "execution_count": 1,
   "metadata": {
    "collapsed": false
   },
   "outputs": [],
   "source": [
    "import numpy as np\n",
    "import pandas as pd\n",
    "deg2rad=np.pi/180. # converts degrees to radians"
   ]
  },
  {
   "cell_type": "markdown",
   "metadata": {},
   "source": [
    "Let's write a little function to do the conversion.  "
   ]
  },
  {
   "cell_type": "code",
   "execution_count": 2,
   "metadata": {
    "collapsed": false
   },
   "outputs": [],
   "source": [
    "def dir2cart(data):\n",
    "    decs,incs,ints=data[0]*deg2rad,data[1]*deg2rad,data[2]\n",
    "    X=ints*np.cos(decs)*np.cos(incs)\n",
    "    Y=ints*np.sin(decs)*np.cos(incs)\n",
    "    Z=ints*np.sin(incs)\n",
    "    cart=np.array([X,Y,Z]).transpose()\n",
    "    return cart"
   ]
  },
  {
   "cell_type": "markdown",
   "metadata": {},
   "source": [
    "Now let's read in a data file with some geomagnetic field vectors in it."
   ]
  },
  {
   "cell_type": "code",
   "execution_count": 3,
   "metadata": {
    "collapsed": false
   },
   "outputs": [
    {
     "name": "stdout",
     "output_type": "stream",
     "text": [
      "[[ 21352.55524831   2093.63634727  23332.08409238]\n",
      " [  4504.44337072   -259.7245706   -1225.86288284]\n",
      " [ 23546.1300489    3141.72451736  33426.255268  ]\n",
      " [ 14629.0911691    1022.96570709  21021.51776849]\n",
      " [ 23150.99484809   2965.71083857  30861.24994328]\n",
      " [ 14767.09147922   2127.97038951    651.40495181]\n",
      " [ 18929.94924879   -231.28446662  25961.37752135]\n",
      " [  8342.98700429    759.27129675   8495.26107758]\n",
      " [ 10858.76521357   2606.95887762  19818.79867013]\n",
      " [ 30243.76260383   1532.08292009  41375.84902637]]\n"
     ]
    }
   ],
   "source": [
    "# read in the data and transpose it to rows of dec, inc, int\n",
    "data=np.loadtxt('Chapter_2/ps2_prob1_data.txt').transpose()\n",
    "print dir2cart(data)"
   ]
  },
  {
   "cell_type": "markdown",
   "metadata": {},
   "source": [
    "### Problem 1b: Read in locations from 10 random spots on Earth and calculate the IGRF vectors at each place. "
   ]
  },
  {
   "cell_type": "markdown",
   "metadata": {},
   "source": [
    "First we have to understand how the function pmag.get_unf() works.  To do this, we need to tell the notebook where the pmag module lives, import it and print out the doc string for get_unf(): "
   ]
  },
  {
   "cell_type": "code",
   "execution_count": 4,
   "metadata": {
    "collapsed": false
   },
   "outputs": [
    {
     "name": "stdout",
     "output_type": "stream",
     "text": [
      "\n",
      "    Called with get_unf(N).\n",
      " subroutine to retrieve N uniformly distributed directions\n",
      " using the way described in Fisher et al. (1987).\n",
      "    \n"
     ]
    }
   ],
   "source": [
    "import pmagpy.pmag as pmag\n",
    "print pmag.get_unf.__doc__"
   ]
  },
  {
   "cell_type": "markdown",
   "metadata": {},
   "source": [
    "Now we can use that function to generate a list of random points on the Earth's surface.  "
   ]
  },
  {
   "cell_type": "code",
   "execution_count": 5,
   "metadata": {
    "collapsed": false
   },
   "outputs": [
    {
     "name": "stdout",
     "output_type": "stream",
     "text": [
      "[[  3.52809686e+01   3.19478785e+01]\n",
      " [  1.06262145e+02  -1.02737936e+01]\n",
      " [  5.84021807e+01  -7.77962017e+00]\n",
      " [  1.17196375e+01   8.86726361e+00]\n",
      " [  1.19213622e+02   5.49664742e+01]\n",
      " [  5.59384890e+00   1.16616508e-01]\n",
      " [  2.01434352e+02  -6.51337266e+00]\n",
      " [  1.70767932e+02  -6.30655304e+01]\n",
      " [  2.18341147e+02   2.55870783e+01]\n",
      " [  1.02462481e+02  -2.93387244e+01]]\n"
     ]
    }
   ],
   "source": [
    "places=pmag.get_unf(10)\n",
    "print places"
   ]
  },
  {
   "cell_type": "markdown",
   "metadata": {},
   "source": [
    "Now let's find out about ipmag.igrf"
   ]
  },
  {
   "cell_type": "code",
   "execution_count": 6,
   "metadata": {
    "collapsed": false
   },
   "outputs": [
    {
     "name": "stdout",
     "output_type": "stream",
     "text": [
      "\n",
      "    prints out Declination, Inclination, Intensity data from an input list with format: [Date, Altitude, Latitude, Longitude]\n",
      "    Date must be in format XXXX.XXXX with years and decimals of a year (A.D.)\n",
      "    \n"
     ]
    }
   ],
   "source": [
    "import pmagpy.ipmag\n",
    "print ipmag.igrf.__doc__"
   ]
  },
  {
   "cell_type": "markdown",
   "metadata": {},
   "source": [
    "And now we can ship the data in places to doigrf."
   ]
  },
  {
   "cell_type": "code",
   "execution_count": 7,
   "metadata": {
    "collapsed": false
   },
   "outputs": [
    {
     "name": "stdout",
     "output_type": "stream",
     "text": [
      "[  3.68239665e+00   4.75952520e+01   4.44059325e+04]\n",
      "[  4.30016946e-01  -3.92117630e+01   4.68644619e+04]\n",
      "[  3.52392827e+02  -3.43711305e+01   3.69352776e+04]\n",
      "[  3.58856581e+02  -5.99792385e+00   3.37488779e+04]\n",
      "[   348.97823391     72.60451854  59915.49800463]\n",
      "[  3.55185058e+02  -2.84549761e+01   3.21747766e+04]\n",
      "[  9.88882910e+00  -1.27456900e+01   3.38886738e+04]\n",
      "[  5.66138408e+01  -8.13876537e+01   6.47141380e+04]\n",
      "[  1.19846842e+01   4.56316093e+01   3.87563828e+04]\n",
      "[   351.9090671     -65.54382142  56326.27548941]\n"
     ]
    }
   ],
   "source": [
    "for place in places:\n",
    "    print ipmag.igrf([2006,0,place[1],place[0]])"
   ]
  },
  {
   "cell_type": "markdown",
   "metadata": {},
   "source": [
    "## Problem 1c:  Take the output from 1b and call ``dir2cart''. "
   ]
  },
  {
   "cell_type": "code",
   "execution_count": 15,
   "metadata": {
    "collapsed": false
   },
   "outputs": [
    {
     "name": "stdout",
     "output_type": "stream",
     "text": [
      "[[ 29883.91752386   1923.28661846  32789.31655114]\n",
      " [ 36310.25204106    272.52123978 -29627.16863494]\n",
      " [ 30217.99577504  -4035.79202813 -20851.85468725]\n",
      " [ 33557.44243805   -669.77576247  -3526.50212906]\n",
      " [ 17582.26313812  -3424.57795118  57175.19733189]\n",
      " [ 28187.97215916  -2374.41331567 -15330.25225252]\n",
      " [ 32562.53697469   5676.53062283  -7476.65699771]\n",
      " [  5332.66554444   8091.66442093 -63984.43011155]\n",
      " [ 26510.42005849   5627.55746327  27705.33225197]\n",
      " [ 23086.8001062   -3282.01080394 -51272.57918662]]\n"
     ]
    }
   ],
   "source": [
    "data=[] # make a blank list\n",
    "for place in places:\n",
    "    Dir=ipmag.igrf([2006,0,place[1],place[0]])\n",
    "    data.append(Dir) # append to the data list\n",
    "data=np.array(data).transpose() # dir2cart takes arrays of data\n",
    "print dir2cart(data)"
   ]
  },
  {
   "cell_type": "markdown",
   "metadata": {},
   "source": [
    "## Problem 2:  Take the output from Problem 1c and plot as an equal area projection (first by hand and then with ipmag functions).  The ipmag functions call pmagplotlib and use matplotlib, so these will have to be imported as well. "
   ]
  },
  {
   "cell_type": "code",
   "execution_count": 9,
   "metadata": {
    "collapsed": false
   },
   "outputs": [],
   "source": [
    "import pmagplotlib\n",
    "import matplotlib.pyplot as plt\n",
    "%matplotlib inline"
   ]
  },
  {
   "cell_type": "code",
   "execution_count": 16,
   "metadata": {
    "collapsed": false
   },
   "outputs": [
    {
     "data": {
      "image/png": "[encoded data removed]",
      "text/plain": [
       "<matplotlib.figure.Figure at 0x10da39a90>"
      ]
     },
     "metadata": {},
     "output_type": "display_data"
    }
   ],
   "source": [
    "ipmag.plot_net(1) # make an equal angle net\n",
    "ipmag.plot_di(data[0],data[1]) # put on the dots"
   ]
  },
  {
   "cell_type": "markdown",
   "metadata": {},
   "source": [
    "### Problem 3: Use the dipole formula ($\\tan (I) = 2 \\tan (\\lambda)$ where $I$ is inclination and $\\lambda$ is latitude and calculate the GAD field at 36 $^{\\circ}$N.  Note that declination is always zero for a GAD field.  "
   ]
  },
  {
   "cell_type": "code",
   "execution_count": 11,
   "metadata": {
    "collapsed": false
   },
   "outputs": [
    {
     "name": "stdout",
     "output_type": "stream",
     "text": [
      "   55.5\n"
     ]
    }
   ],
   "source": [
    "lat = 36.*deg2rad # remember to convert to radians!\n",
    "inc = np.arctan(2.*np.tan(lat)) /deg2rad # and back! \n",
    "print '%7.1f'%(inc) # and print it out"
   ]
  },
  {
   "cell_type": "markdown",
   "metadata": {},
   "source": [
    "Let's use the pmag function dia_vgp.  First let's figure out what it does:"
   ]
  },
  {
   "cell_type": "code",
   "execution_count": 12,
   "metadata": {
    "collapsed": false
   },
   "outputs": [
    {
     "name": "stdout",
     "output_type": "stream",
     "text": [
      "\n",
      "    converts declination, inclination, alpha95 to VGP, dp, dm\n",
      "    takes input as (Decs, Incs, a95, Site latitudes, Site Longitudes).  \n",
      "    These can be lists or individual values.\n",
      "    \n"
     ]
    }
   ],
   "source": [
    "print pmag.dia_vgp.__doc__"
   ]
  },
  {
   "cell_type": "markdown",
   "metadata": {},
   "source": [
    "Now we can use it to convert our directions to VGPs. Note that alpha95 is require but is not given here so we supply a zero in its place. Note also that westward longitudes are indicated by minus signs"
   ]
  },
  {
   "cell_type": "code",
   "execution_count": 18,
   "metadata": {
    "collapsed": false
   },
   "outputs": [
    {
     "name": "stdout",
     "output_type": "stream",
     "text": [
      "  130.6    75.1\n"
     ]
    }
   ],
   "source": [
    "vgp_lat,vgp_lon,dp,dp= pmag.dia_vgp(345,47,0.,36,-112) \n",
    "print '%7.1f %7.1f'%(vgp_lat,vgp_lon)"
   ]
  },
  {
   "cell_type": "code",
   "execution_count": null,
   "metadata": {
    "collapsed": false
   },
   "outputs": [],
   "source": []
  }
 ],
 "metadata": {
  "kernelspec": {
   "display_name": "Python 2",
   "language": "python",
   "name": "python2"
  },
  "language_info": {
   "codemirror_mode": {
    "name": "ipython",
    "version": 2
   },
   "file_extension": ".py",
   "mimetype": "text/x-python",
   "name": "python",
   "nbconvert_exporter": "python",
   "pygments_lexer": "ipython2",
   "version": "2.7.10"
  }
 },
 "nbformat": 4,
 "nbformat_minor": 0
}
