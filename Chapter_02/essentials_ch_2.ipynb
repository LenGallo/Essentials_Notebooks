{
 "cells": [
  {
   "cell_type": "markdown",
   "metadata": {},
   "source": [
    "# Jupyter Notebook  problems in the Essentials of Paleomagnetism Textbook by L. Tauxe"
   ]
  },
  {
   "cell_type": "markdown",
   "metadata": {},
   "source": [
    "## Problems in Chapter 2"
   ]
  },
  {
   "cell_type": "markdown",
   "metadata": {},
   "source": [
    "### Problem 1a:   \n",
    "Write a script to convert declination, inclination, intensity data to North, East and Down.  First we need to import numpy, the module with lots of math functions and pandas with nice data manipulation functions"
   ]
  },
  {
   "cell_type": "code",
   "execution_count": 1,
   "metadata": {},
   "outputs": [],
   "source": [
    "import numpy as np\n",
    "import pandas as pd\n"
   ]
  },
  {
   "cell_type": "markdown",
   "metadata": {},
   "source": [
    "Let's write a little function to do the conversion.  "
   ]
  },
  {
   "cell_type": "code",
   "execution_count": 2,
   "metadata": {},
   "outputs": [],
   "source": [
    "def dir2cart(data):\n",
    "    \"\"\" Converts data array with [Declination, Inclination, Intensity] \n",
    "        to cartesian coordinates, X=North, Y=East, Z=Down\n",
    "        Returns array with [X,Y,Z]\n",
    "    \"\"\"\n",
    "    # convert degrees to radians for declination and inclination\n",
    "    decs,incs,ints=np.radians(data[0]),np.radians(data[1]),data[2]\n",
    "    X=ints*np.cos(decs)*np.cos(incs)\n",
    "    Y=ints*np.sin(decs)*np.cos(incs)\n",
    "    Z=ints*np.sin(incs)\n",
    "    cart=np.array([X,Y,Z]).transpose()\n",
    "    return cart"
   ]
  },
  {
   "cell_type": "markdown",
   "metadata": {},
   "source": [
    "Now let's read in a data file with some geomagnetic field vectors in it."
   ]
  },
  {
   "cell_type": "code",
   "execution_count": 5,
   "metadata": {},
   "outputs": [
    {
     "name": "stdout",
     "output_type": "stream",
     "text": [
      "[[ 21352.55524831   2093.63634727  23332.08409238]\n",
      " [  4504.44337072   -259.7245706   -1225.86288284]\n",
      " [ 23546.1300489    3141.72451736  33426.255268  ]\n",
      " [ 14629.0911691    1022.96570709  21021.51776849]\n",
      " [ 23150.99484809   2965.71083857  30861.24994328]\n",
      " [ 14767.09147922   2127.97038951    651.40495181]\n",
      " [ 18929.94924879   -231.28446662  25961.37752135]\n",
      " [  8342.98700429    759.27129675   8495.26107758]\n",
      " [ 10858.76521357   2606.95887762  19818.79867013]\n",
      " [ 30243.76260383   1532.08292009  41375.84902637]]\n"
     ]
    }
   ],
   "source": [
    "# read in the data and transpose it to rows of dec, inc, int\n",
    "data=np.loadtxt('ps2_prob1_data.txt').transpose()\n",
    "print (dir2cart(data))"
   ]
  },
  {
   "cell_type": "markdown",
   "metadata": {},
   "source": [
    "### Problem 1b: \n",
    "Get locations from 10 random spots on Earth and calculate the IGRF vectors at each place. "
   ]
  },
  {
   "cell_type": "markdown",
   "metadata": {},
   "source": [
    "You will have to install the  **PmagPy** before you can use the functions in it.  If you haven't done so, go to http://earthref.org/PmagPy/cookbook and follow the directions for installing **PmagPy**.  \n",
    "\n",
    "To solve this problem,  we have to understand how the function **pmag.get_unf( )** works.  To do this, we need to tell the notebook where the **pmag** module lives, import it and print out the doc string for **get_unf()**: "
   ]
  },
  {
   "cell_type": "code",
   "execution_count": 9,
   "metadata": {},
   "outputs": [
    {
     "name": "stdout",
     "output_type": "stream",
     "text": [
      "Help on function get_unf in module pmagpy.pmag:\n",
      "\n",
      "get_unf(N)\n",
      "       Called with get_unf(N).\n",
      "    subroutine to retrieve N uniformly distributed directions\n",
      "    using the way described in Fisher et al. (1987).\n",
      "\n"
     ]
    }
   ],
   "source": [
    "import pmagpy.pmag as pmag\n",
    "help(pmag.get_unf)"
   ]
  },
  {
   "cell_type": "markdown",
   "metadata": {},
   "source": [
    "Now we can use that function to generate a list of random points on the Earth's surface.  "
   ]
  },
  {
   "cell_type": "code",
   "execution_count": 10,
   "metadata": {},
   "outputs": [
    {
     "name": "stdout",
     "output_type": "stream",
     "text": [
      "[[ 296.57060058  -14.94521803]\n",
      " [ 278.91278455  -24.04744891]\n",
      " [  10.26012821    9.85242659]\n",
      " [ 340.0306994   -15.04575254]\n",
      " [   7.47993058  -45.38441136]\n",
      " [  26.6712868    30.30049264]\n",
      " [  70.97414861  -26.01522427]\n",
      " [ 187.06382799    6.31509525]\n",
      " [  11.32247157   46.14552109]\n",
      " [  97.52176299   27.90784045]]\n"
     ]
    }
   ],
   "source": [
    "places=pmag.get_unf(10)\n",
    "print (places)"
   ]
  },
  {
   "cell_type": "markdown",
   "metadata": {},
   "source": [
    "Now let's find out about ipmag.igrf"
   ]
  },
  {
   "cell_type": "code",
   "execution_count": 15,
   "metadata": {},
   "outputs": [
    {
     "name": "stdout",
     "output_type": "stream",
     "text": [
      "Help on function igrf in module pmagpy.ipmag:\n",
      "\n",
      "igrf(input_list)\n",
      "    Determine Declination, Inclination, Intensity from the IGRF model.\n",
      "    (http://www.ngdc.noaa.gov/IAGA/vmod/igrf.html)\n",
      "    \n",
      "    Parameters\n",
      "    ----------\n",
      "    input_list : list with format [Date, Altitude, Latitude, Longitude]\n",
      "        date must be in decimal year format XXXX.XXXX (A.D.)\n",
      "    \n",
      "    Returns\n",
      "    -------\n",
      "    igrf_array : array of IGRF values (0: dec; 1: inc; 2: intensity)\n",
      "    \n",
      "    Examples\n",
      "    --------\n",
      "    >>> local_field = ipmag.igrf([2013.6544, .052, 37.87, -122.27])\n",
      "    >>> local_field\n",
      "    array([  1.39489916e+01,   6.13532008e+01,   4.87452644e+04])\n",
      "    >>> ipmag.igrf_print(local_field)\n",
      "    Declination: 13.949\n",
      "    Inclination: 61.353\n",
      "    Intensity: 48745.264 nT\n",
      "\n"
     ]
    }
   ],
   "source": [
    "import pmagpy.ipmag as ipmag\n",
    "help(ipmag.igrf)"
   ]
  },
  {
   "cell_type": "markdown",
   "metadata": {},
   "source": [
    "And now we can ship the **data** in places to **ipmag.igrf**."
   ]
  },
  {
   "cell_type": "code",
   "execution_count": 16,
   "metadata": {},
   "outputs": [
    {
     "name": "stdout",
     "output_type": "stream",
     "text": [
      "[  3.49921916e+02  -7.81155910e+00   2.39418114e+04]\n",
      "[  6.95620500e+00  -2.16268774e+01   2.56134912e+04]\n",
      "[  3.58723031e+02  -3.57963105e+00   3.38109152e+04]\n",
      "[   337.56950358    -47.06525107  26704.78986928]\n",
      "[   335.54059189    -63.05290002  25419.99777109]\n",
      "[  3.03319257e+00   4.39150754e+01   4.28216786e+04]\n",
      "[   335.55781848    -60.35928881  45184.44235406]\n",
      "[  9.20891911e+00   1.04251638e+01   3.28392782e+04]\n",
      "[  1.58268422e+00   6.23155673e+01   4.73911274e+04]\n",
      "[  3.59352466e+02   4.23794283e+01   4.86811775e+04]\n"
     ]
    }
   ],
   "source": [
    "for place in places:\n",
    "    print (ipmag.igrf([2006,0,place[1],place[0]]))"
   ]
  },
  {
   "cell_type": "markdown",
   "metadata": {},
   "source": [
    "## Problem 1c:  \n",
    "Take the output from Problem 1b and call **dir2cart**. "
   ]
  },
  {
   "cell_type": "code",
   "execution_count": 17,
   "metadata": {},
   "outputs": [
    {
     "name": "stdout",
     "output_type": "stream",
     "text": [
      "[[ 23353.65224173  -4150.70340909  -3254.06200286]\n",
      " [ 23635.12808511   2883.69226803  -9440.12543869]\n",
      " [ 33736.56910851   -752.02173478  -2111.00856315]\n",
      " [ 16814.14129487  -6940.76117017 -19551.37562571]\n",
      " [ 10485.69958419  -4769.63993749 -22660.02925371]\n",
      " [ 30804.17871908   1632.27362316  29700.74765865]\n",
      " [ 20343.69760027  -9246.37557523 -39271.77532934]\n",
      " [ 31880.90405437   5168.67287308   5942.30365612]\n",
      " [ 22009.58755495    608.12663241  41965.78594192]\n",
      " [ 35958.36254652   -406.40446061  32812.92489956]]\n"
     ]
    }
   ],
   "source": [
    "data=[] # make a blank list\n",
    "for place in places:\n",
    "    Dir=ipmag.igrf([2006,0,place[1],place[0]])\n",
    "    data.append(Dir) # append to the data list\n",
    "data=np.array(data).transpose() # dir2cart takes arrays of data\n",
    "print (dir2cart(data))"
   ]
  },
  {
   "cell_type": "markdown",
   "metadata": {},
   "source": [
    "## Problem 2: \n",
    "\n",
    "Take the output from Problem 1c and plot as an equal area projection (first by hand and then with **ipmag** functions).  The **ipmag** functions call **pmagplotlib** and use **matplotlib**, so these will have to be imported as well. "
   ]
  },
  {
   "cell_type": "code",
   "execution_count": 21,
   "metadata": {},
   "outputs": [],
   "source": [
    "import pmagpy.pmagplotlib as pmagplotlib\n",
    "import matplotlib.pyplot as plt\n",
    "# this 'magic command' (starts with %) let's us plot things in the notebook\n",
    "%matplotlib inline "
   ]
  },
  {
   "cell_type": "code",
   "execution_count": 22,
   "metadata": {},
   "outputs": [
    {
     "data": {
      "image/png": "[encoded data removed]",
      "text/plain": [
       "<matplotlib.figure.Figure at 0x1097be5c0>"
      ]
     },
     "metadata": {},
     "output_type": "display_data"
    }
   ],
   "source": [
    "ipmag.plot_net(1) # make an equal angle net\n",
    "ipmag.plot_di(data[0],data[1]) # put on the dots"
   ]
  },
  {
   "cell_type": "markdown",
   "metadata": {},
   "source": [
    "### Problem 3: \n",
    "Use the dipole formula ($\\tan (I) = 2 \\tan (\\lambda)$ where $I$ is inclination and $\\lambda$ is latitude and calculate the GAD field at 36 $^{\\circ}$N.  Note that declination is always zero for a GAD field.  We can make a **lambda** function for this!"
   ]
  },
  {
   "cell_type": "code",
   "execution_count": 25,
   "metadata": {},
   "outputs": [
    {
     "name": "stdout",
     "output_type": "stream",
     "text": [
      "   55.5\n"
     ]
    }
   ],
   "source": [
    "lat = np.radians(36.) # remember to convert to radians!\n",
    "inc = lambda lat: np.degrees(np.arctan(2.*np.tan(lat)))  # and back! \n",
    "print ('%7.1f'%(inc(lat))) # and print it out"
   ]
  },
  {
   "cell_type": "markdown",
   "metadata": {},
   "source": [
    "Let's use the pmag function **dia_vgp**.  First let's figure out what it does:"
   ]
  },
  {
   "cell_type": "code",
   "execution_count": 26,
   "metadata": {},
   "outputs": [
    {
     "name": "stdout",
     "output_type": "stream",
     "text": [
      "Help on function dia_vgp in module pmagpy.pmag:\n",
      "\n",
      "dia_vgp(*args)\n",
      "    Converts directional data (declination, inclination, alpha95) at a given\n",
      "    location (Site latitude, Site longitude) to pole position (pole longitude,\n",
      "    pole latitude, dp, dm)\n",
      "    \n",
      "    Parameters\n",
      "    ----------\n",
      "    Takes input as (Dec, Inc, a95, Site latitude, Site longitude)\n",
      "    Input can be as individual values (5 parameters)\n",
      "    or\n",
      "    as a list of lists: [[Dec, Inc, a95, lat, lon],[Dec, Inc, a95, lat, lon]]\n",
      "    \n",
      "    Returns\n",
      "    ----------\n",
      "    if input is individual values for one pole the return is:\n",
      "    pole longitude, pole latitude, dp, dm\n",
      "    \n",
      "    if input is list of lists the return is:\n",
      "    list of pole longitudes, list of pole latitude, list of dp, list of dm\n",
      "\n"
     ]
    }
   ],
   "source": [
    "help(pmag.dia_vgp)"
   ]
  },
  {
   "cell_type": "markdown",
   "metadata": {},
   "source": [
    "Now we can use it to convert our directions to VGPs. Note that alpha95 is require but is not given here so we supply a zero in its place. Note also that westward longitudes are indicated by minus signs"
   ]
  },
  {
   "cell_type": "code",
   "execution_count": 27,
   "metadata": {},
   "outputs": [
    {
     "name": "stdout",
     "output_type": "stream",
     "text": [
      "  130.6    75.1\n"
     ]
    }
   ],
   "source": [
    "vgp_lat,vgp_lon,dp,dp= pmag.dia_vgp(345,47,0.,36,-112) \n",
    "print ('%7.1f %7.1f'%(vgp_lat,vgp_lon))"
   ]
  }
 ],
 "metadata": {
  "kernelspec": {
   "display_name": "Python 3",
   "language": "python",
   "name": "python3"
  },
  "language_info": {
   "codemirror_mode": {
    "name": "ipython",
    "version": 3
   },
   "file_extension": ".py",
   "mimetype": "text/x-python",
   "name": "python",
   "nbconvert_exporter": "python",
   "pygments_lexer": "ipython3",
   "version": "3.6.3"
  }
 },
 "nbformat": 4,
 "nbformat_minor": 1
}
