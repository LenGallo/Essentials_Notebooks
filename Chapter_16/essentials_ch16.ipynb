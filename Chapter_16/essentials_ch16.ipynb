{
 "cells": [
  {
   "cell_type": "markdown",
   "metadata": {},
   "source": [
    "# Jupyter Notebook  problems in the Essentials of Paleomagnetism Textbook by L. Tauxe"
   ]
  },
  {
   "cell_type": "markdown",
   "metadata": {},
   "source": [
    "## Problems in Chapter 16"
   ]
  },
  {
   "cell_type": "markdown",
   "metadata": {},
   "source": [
    "First let's set things up for business. "
   ]
  },
  {
   "cell_type": "code",
   "execution_count": 1,
   "metadata": {},
   "outputs": [],
   "source": [
    "import pmagpy.ipmag as ipmag\n",
    "import pmagpy.pmag as pmag\n",
    "from IPython.display import Image\n",
    "import pandas as pd\n",
    "import numpy as np\n",
    "import matplotlib\n",
    "%matplotlib inline\n",
    "import pylab as plt"
   ]
  },
  {
   "cell_type": "markdown",
   "metadata": {},
   "source": [
    "## Problem 1a"
   ]
  },
  {
   "cell_type": "markdown",
   "metadata": {},
   "source": [
    "We need to use the program **apwp.py** to calculate the expected direction for the Mojave Desert (34.5N,117W).  So let's remind ourselves about how it works.  "
   ]
  },
  {
   "cell_type": "code",
   "execution_count": 2,
   "metadata": {},
   "outputs": [
    {
     "name": "stdout",
     "output_type": "stream",
     "text": [
      "\r\n",
      "    NAME\r\n",
      "        apwp.py\r\n",
      "\r\n",
      "    DESCRIPTION\r\n",
      "        returns predicted paleolatitudes, directions and pole latitude/longitude\r\n",
      "        from apparent polar wander paths of Besse and Courtillot (2002).\r\n",
      "\r\n",
      "    SYNTAX\r\n",
      "        apwp.py [command line options][< filename]\r\n",
      "\r\n",
      "    OPTIONS\r\n",
      "        -h prints help message and quits\r\n",
      "        -i allows interactive data entry\r\n",
      "        -f file: read plate, lat, lon, age data from file\r\n",
      "        -F output_file: write output to output_file \r\n",
      "        -P [NA, SA, AF, IN, EU, AU, ANT, GL] plate\r\n",
      "        -lat LAT specify present latitude (positive = North; negative=South)\r\n",
      "        -lon LON specify present longitude (positive = East, negative=West)\r\n",
      "        -age AGE specify Age in Ma\r\n",
      "\r\n",
      "     Note:  must have all -P, -lat, -lon, -age or none.\r\n",
      "\r\n",
      "     OUTPUT\r\n",
      "        Age  Paleolat.  Dec.  Inc.  Pole_lat.  Pole_Long. \r\n",
      "\r\n",
      "    \r\n"
     ]
    }
   ],
   "source": [
    "!apwp.py -h"
   ]
  },
  {
   "cell_type": "markdown",
   "metadata": {},
   "source": [
    "Don't forget the minus sign on the longitude!"
   ]
  },
  {
   "cell_type": "code",
   "execution_count": 3,
   "metadata": {},
   "outputs": [
    {
     "name": "stdout",
     "output_type": "stream",
     "text": [
      "Age  Paleolat.  Dec.  Inc.  Pole_lat.  Pole_Long.\r\n",
      "    20.0    34.7   349.2    54.1    81.1   156.7\r\n",
      "\r\n"
     ]
    }
   ],
   "source": [
    "!apwp.py -lat 34.5 -lon -117.5 -age 20 -P NA "
   ]
  },
  {
   "cell_type": "code",
   "execution_count": 4,
   "metadata": {},
   "outputs": [],
   "source": [
    "ExpDec=349.2  # might as well keep these for later. \n",
    "ExpInc=54.1"
   ]
  },
  {
   "cell_type": "markdown",
   "metadata": {},
   "source": [
    "## Problem 1b"
   ]
  },
  {
   "cell_type": "markdown",
   "metadata": {},
   "source": [
    "I went to http://earthref.org/MagIC/search and filled in the search criteria as requested and downloaded a file in  a Project Directory called 'MojaveDesert'.  Now we can unpack it with **download_magic.py** as we did in Chapter_15.   "
   ]
  },
  {
   "cell_type": "code",
   "execution_count": 5,
   "metadata": {},
   "outputs": [
    {
     "name": "stdout",
     "output_type": "stream",
     "text": [
      "Using default arguments for: -F, -A, -ID, -Fsa, -Fsi, -O, -sep\r\n",
      "Traceback (most recent call last):\r\n",
      "  File \"/Users/ltauxe/Programs/PmagPy/GIT/PmagPy/programs/download_magic.py\", line 58, in <module>\r\n",
      "    main()\r\n",
      "  File \"/Users/ltauxe/Programs/PmagPy/GIT/PmagPy/programs/download_magic.py\", line 53, in main\r\n",
      "    ipmag.download_magic(infile, dir_path, input_dir_path, overwrite, True, data_model, sep)\r\n",
      "  File \"/Users/ltauxe/Programs/PmagPy/GIT/PmagPy/pmagpy/ipmag.py\", line 3467, in download_magic\r\n",
      "    f = codecs.open(infile, 'r', \"utf-8\")\r\n",
      "  File \"/Users/ltauxe/anaconda3/lib/python3.6/codecs.py\", line 895, in open\r\n",
      "    file = builtins.open(filename, mode, buffering)\r\n",
      "FileNotFoundError: [Errno 2] No such file or directory: '/Users/ltauxe/Documents/writing_stuff/Notebook_GIT/Essentials_Notebooks/Chapter_16/Chapter_16/MojaveDesert/magic_downloaded_rows.txt'\r\n"
     ]
    }
   ],
   "source": [
    "!download_magic.py -WD Chapter_16/MojaveDesert -f magic_downloaded_rows.txt"
   ]
  },
  {
   "cell_type": "markdown",
   "metadata": {},
   "source": [
    "## Problem 1c"
   ]
  },
  {
   "cell_type": "markdown",
   "metadata": {},
   "source": [
    "We are asked to make an equal area plot of all the Miocene poles, so we will have to read the data in plot  those.  \n",
    "\n",
    "I know by now (and also by reading the information on the MagIC database in the PmagPy cookbook (http://earthref.org/PmagPy/cookbook) and in the data model link on the MagIC website that the locations.txt tables are tab delimited with column headers on the second line.  So, I'll read in the sites table into a Pandas DataFrame and wrangle that. "
   ]
  },
  {
   "cell_type": "code",
   "execution_count": 6,
   "metadata": {},
   "outputs": [
    {
     "data": {
      "text/html": [
       "<div>\n",
       "<style>\n",
       "    .dataframe thead tr:only-child th {\n",
       "        text-align: right;\n",
       "    }\n",
       "\n",
       "    .dataframe thead th {\n",
       "        text-align: left;\n",
       "    }\n",
       "\n",
       "    .dataframe tbody tr th {\n",
       "        vertical-align: top;\n",
       "    }\n",
       "</style>\n",
       "<table border=\"1\" class=\"dataframe\">\n",
       "  <thead>\n",
       "    <tr style=\"text-align: right;\">\n",
       "      <th></th>\n",
       "      <th>age_high</th>\n",
       "      <th>age_low</th>\n",
       "      <th>age_unit</th>\n",
       "      <th>citations</th>\n",
       "      <th>conglomerate_test</th>\n",
       "      <th>contact_test</th>\n",
       "      <th>continent_ocean</th>\n",
       "      <th>country</th>\n",
       "      <th>description</th>\n",
       "      <th>dir_alpha95</th>\n",
       "      <th>...</th>\n",
       "      <th>pole_dm</th>\n",
       "      <th>pole_dp</th>\n",
       "      <th>pole_lat</th>\n",
       "      <th>pole_lon</th>\n",
       "      <th>pole_reversed_perc</th>\n",
       "      <th>region</th>\n",
       "      <th>result_name</th>\n",
       "      <th>result_type</th>\n",
       "      <th>reversal_test</th>\n",
       "      <th>rock_magnetic_test</th>\n",
       "    </tr>\n",
       "  </thead>\n",
       "  <tbody>\n",
       "    <tr>\n",
       "      <th>0</th>\n",
       "      <td>24.0</td>\n",
       "      <td>18.0</td>\n",
       "      <td>Ma</td>\n",
       "      <td>10.1016/0012-821X(94)90107-4</td>\n",
       "      <td>G+</td>\n",
       "      <td>ND</td>\n",
       "      <td>North America</td>\n",
       "      <td>U.S.A.</td>\n",
       "      <td>Thermal to 590C, characteristic component. Con...</td>\n",
       "      <td>4.9</td>\n",
       "      <td>...</td>\n",
       "      <td>7.0</td>\n",
       "      <td>5.0</td>\n",
       "      <td>89.3</td>\n",
       "      <td>243.0</td>\n",
       "      <td>0.0</td>\n",
       "      <td>California</td>\n",
       "      <td>7248.0</td>\n",
       "      <td>i</td>\n",
       "      <td>ND</td>\n",
       "      <td>ND</td>\n",
       "    </tr>\n",
       "    <tr>\n",
       "      <th>1</th>\n",
       "      <td>24.0</td>\n",
       "      <td>18.0</td>\n",
       "      <td>Ma</td>\n",
       "      <td>10.1016/0012-821X(94)90107-4</td>\n",
       "      <td>G+</td>\n",
       "      <td>ND</td>\n",
       "      <td>North America</td>\n",
       "      <td>U.S.A.</td>\n",
       "      <td>Thermal to 590C, characteristic component. Con...</td>\n",
       "      <td>4.7</td>\n",
       "      <td>...</td>\n",
       "      <td>7.0</td>\n",
       "      <td>5.0</td>\n",
       "      <td>89.3</td>\n",
       "      <td>243.0</td>\n",
       "      <td>0.0</td>\n",
       "      <td>California</td>\n",
       "      <td>7248.0</td>\n",
       "      <td>i</td>\n",
       "      <td>ND</td>\n",
       "      <td>ND</td>\n",
       "    </tr>\n",
       "    <tr>\n",
       "      <th>2</th>\n",
       "      <td>27.0</td>\n",
       "      <td>21.0</td>\n",
       "      <td>Ma</td>\n",
       "      <td>10.1029/JB080I015P12467</td>\n",
       "      <td>ND</td>\n",
       "      <td>ND</td>\n",
       "      <td>North America</td>\n",
       "      <td>U.S.A.</td>\n",
       "      <td>Late Oligocene to Early Miocene. AF to 80mT. T...</td>\n",
       "      <td>7.5</td>\n",
       "      <td>...</td>\n",
       "      <td>12.1</td>\n",
       "      <td>9.8</td>\n",
       "      <td>2.1</td>\n",
       "      <td>272.2</td>\n",
       "      <td>-1.0</td>\n",
       "      <td>California</td>\n",
       "      <td>329.0</td>\n",
       "      <td>i</td>\n",
       "      <td>ND</td>\n",
       "      <td>ND</td>\n",
       "    </tr>\n",
       "    <tr>\n",
       "      <th>3</th>\n",
       "      <td>21.0</td>\n",
       "      <td>15.0</td>\n",
       "      <td>Ma</td>\n",
       "      <td>10.1029/96TC00131</td>\n",
       "      <td>ND</td>\n",
       "      <td>ND</td>\n",
       "      <td>North America</td>\n",
       "      <td>U.S.A.</td>\n",
       "      <td>N/NW Group. AF to 150mT, characteristic compon...</td>\n",
       "      <td>6.3</td>\n",
       "      <td>...</td>\n",
       "      <td>8.8</td>\n",
       "      <td>6.1</td>\n",
       "      <td>81.5</td>\n",
       "      <td>148.5</td>\n",
       "      <td>0.0</td>\n",
       "      <td>Northern Mojave Desert</td>\n",
       "      <td>8186.0</td>\n",
       "      <td>i</td>\n",
       "      <td>ND</td>\n",
       "      <td>ND</td>\n",
       "    </tr>\n",
       "    <tr>\n",
       "      <th>4</th>\n",
       "      <td>23.0</td>\n",
       "      <td>10.0</td>\n",
       "      <td>Ma</td>\n",
       "      <td>10.1029/JB087IB05P03819</td>\n",
       "      <td>ND</td>\n",
       "      <td>ND</td>\n",
       "      <td>North America</td>\n",
       "      <td>U.S.A.</td>\n",
       "      <td>Intercalated basalts. Upper part is Lower to M...</td>\n",
       "      <td>5.9</td>\n",
       "      <td>...</td>\n",
       "      <td>8.6</td>\n",
       "      <td>8.6</td>\n",
       "      <td>78.3</td>\n",
       "      <td>223.2</td>\n",
       "      <td>58.0</td>\n",
       "      <td>California</td>\n",
       "      <td>263.0</td>\n",
       "      <td>i</td>\n",
       "      <td>Rc</td>\n",
       "      <td>ND</td>\n",
       "    </tr>\n",
       "  </tbody>\n",
       "</table>\n",
       "<p>5 rows × 42 columns</p>\n",
       "</div>"
      ],
      "text/plain": [
       "   age_high  age_low age_unit                     citations conglomerate_test  \\\n",
       "0      24.0     18.0       Ma  10.1016/0012-821X(94)90107-4                G+   \n",
       "1      24.0     18.0       Ma  10.1016/0012-821X(94)90107-4                G+   \n",
       "2      27.0     21.0       Ma       10.1029/JB080I015P12467                ND   \n",
       "3      21.0     15.0       Ma             10.1029/96TC00131                ND   \n",
       "4      23.0     10.0       Ma       10.1029/JB087IB05P03819                ND   \n",
       "\n",
       "  contact_test continent_ocean country  \\\n",
       "0           ND   North America  U.S.A.   \n",
       "1           ND   North America  U.S.A.   \n",
       "2           ND   North America  U.S.A.   \n",
       "3           ND   North America  U.S.A.   \n",
       "4           ND   North America  U.S.A.   \n",
       "\n",
       "                                         description  dir_alpha95  \\\n",
       "0  Thermal to 590C, characteristic component. Con...          4.9   \n",
       "1  Thermal to 590C, characteristic component. Con...          4.7   \n",
       "2  Late Oligocene to Early Miocene. AF to 80mT. T...          7.5   \n",
       "3  N/NW Group. AF to 150mT, characteristic compon...          6.3   \n",
       "4  Intercalated basalts. Upper part is Lower to M...          5.9   \n",
       "\n",
       "          ...          pole_dm  pole_dp  pole_lat  pole_lon  \\\n",
       "0         ...              7.0      5.0      89.3     243.0   \n",
       "1         ...              7.0      5.0      89.3     243.0   \n",
       "2         ...             12.1      9.8       2.1     272.2   \n",
       "3         ...              8.8      6.1      81.5     148.5   \n",
       "4         ...              8.6      8.6      78.3     223.2   \n",
       "\n",
       "   pole_reversed_perc                  region result_name  result_type  \\\n",
       "0                 0.0              California      7248.0            i   \n",
       "1                 0.0              California      7248.0            i   \n",
       "2                -1.0              California       329.0            i   \n",
       "3                 0.0  Northern Mojave Desert      8186.0            i   \n",
       "4                58.0              California       263.0            i   \n",
       "\n",
       "  reversal_test  rock_magnetic_test  \n",
       "0            ND                  ND  \n",
       "1            ND                  ND  \n",
       "2            ND                  ND  \n",
       "3            ND                  ND  \n",
       "4            Rc                  ND  \n",
       "\n",
       "[5 rows x 42 columns]"
      ]
     },
     "execution_count": 6,
     "metadata": {},
     "output_type": "execute_result"
    }
   ],
   "source": [
    "file='Chapter_16/MojaveDesert/locations.txt' # make a filename\n",
    "alldata=pd.read_csv(file,sep='\\t',header=1)\n",
    "alldata.head()"
   ]
  },
  {
   "cell_type": "code",
   "execution_count": 7,
   "metadata": {},
   "outputs": [
    {
     "data": {
      "text/plain": [
       "array(['10.1016/0012-821X(94)90107-4', '10.1029/JB080I015P12467',\n",
       "       '10.1029/96TC00131', '10.1029/JB087IB05P03819',\n",
       "       '10.1029/JB073I002P00711', '10.1029/89JB03298',\n",
       "       'ROSS ET AL. (1989)', '10.1029/2001JB000524'], dtype=object)"
      ]
     },
     "execution_count": 7,
     "metadata": {},
     "output_type": "execute_result"
    }
   ],
   "source": [
    "alldata.citations.unique()"
   ]
  },
  {
   "cell_type": "markdown",
   "metadata": {},
   "source": [
    "Looks like we have some cleaning to do.  First, we should use only the tilt corrected data (dir_tilt_correction=100). "
   ]
  },
  {
   "cell_type": "code",
   "execution_count": 8,
   "metadata": {},
   "outputs": [],
   "source": [
    "data=alldata[alldata.dir_tilt_correction==100]"
   ]
  },
  {
   "cell_type": "markdown",
   "metadata": {},
   "source": [
    "And we should verify that the data fall within our bounds:"
   ]
  },
  {
   "cell_type": "code",
   "execution_count": 9,
   "metadata": {},
   "outputs": [
    {
     "name": "stdout",
     "output_type": "stream",
     "text": [
      "34.8 35.5 241.2 244.0\n"
     ]
    }
   ],
   "source": [
    "print (data.lat_s.min(),data.lat_n.max(),data.lon_w.min(),data.lon_e.max())"
   ]
  },
  {
   "cell_type": "markdown",
   "metadata": {},
   "source": [
    "So, let's plot it up "
   ]
  },
  {
   "cell_type": "code",
   "execution_count": 10,
   "metadata": {},
   "outputs": [
    {
     "data": {
      "image/png": "[encoded data removed]",
      "text/plain": [
       "<matplotlib.figure.Figure at 0x11245e860>"
      ]
     },
     "metadata": {},
     "output_type": "display_data"
    }
   ],
   "source": [
    "ipmag.plot_net(1) # make an equal angle net\n",
    "ipmag.plot_di(data.dir_dec.values,data.dir_inc.values,color='darkgreen')\n",
    "ipmag.plot_di(ExpDec,ExpInc,color='black',marker='*',markersize=50)# put on the Expected normal direction\n",
    "ipmag.plot_di((ExpDec-180)%360,-ExpInc,color='black',marker='*',markersize=50)"
   ]
  },
  {
   "cell_type": "markdown",
   "metadata": {},
   "source": [
    "Wow - that looks weird - so I'm going to plot these in 5 Ma age groups. So let's look at the ages"
   ]
  },
  {
   "cell_type": "code",
   "execution_count": 11,
   "metadata": {},
   "outputs": [
    {
     "data": {
      "image/png": "[encoded data removed]",
      "text/plain": [
       "<matplotlib.figure.Figure at 0x11245ee80>"
      ]
     },
     "metadata": {},
     "output_type": "display_data"
    }
   ],
   "source": [
    "plt.hist(data.age_low)\n",
    "plt.hist(data.age_high);"
   ]
  },
  {
   "cell_type": "code",
   "execution_count": 12,
   "metadata": {},
   "outputs": [],
   "source": [
    "young=data[data.age_low<15]\n",
    "mid=data[(data.age_low>=15)&(data.age_low<20)]\n",
    "old=data[(data.age_low>=20) & (data.age_low<25)]"
   ]
  },
  {
   "cell_type": "code",
   "execution_count": 13,
   "metadata": {},
   "outputs": [
    {
     "data": {
      "image/png": "[encoded data removed]",
      "text/plain": [
       "<matplotlib.figure.Figure at 0x11a8ceef0>"
      ]
     },
     "metadata": {},
     "output_type": "display_data"
    }
   ],
   "source": [
    "ipmag.plot_net(1) # make an equal angle net\n",
    "ipmag.plot_di(ExpDec,ExpInc,color='black',marker='*',markersize=75,legend='yes',label='Expected')# put on the Expected normal direction\n",
    "ipmag.plot_di((ExpDec-180)%360,-ExpInc,color='black',marker='*',markersize=75)\n",
    "ipmag.plot_di(young.dir_dec.values,young.dir_inc.values,color='blue',legend='yes',label='Young') \n",
    "ipmag.plot_di(mid.dir_dec.values,mid.dir_inc.values,color='green',legend='yes',label='Mid') \n",
    "ipmag.plot_di(old.dir_dec.values,old.dir_inc.values,color='darkorange',legend='yes',label='Old') \n"
   ]
  },
  {
   "cell_type": "markdown",
   "metadata": {},
   "source": [
    "So... between ~15 to 25 Ma there must have been some rotation going on.  But not everywhere!  In the Chapter, there is a discussion about 'displaced terranes'.  Perhaps the Mojave is one of those.  At least it appears to have undergone significant vertical axis rotation!  Or got hit by lightning or something..."
   ]
  },
  {
   "cell_type": "markdown",
   "metadata": {},
   "source": [
    "## Problem 2:"
   ]
  },
  {
   "cell_type": "markdown",
   "metadata": {},
   "source": [
    "Site 522 was drilled on the African plate and ranged in age from 23 to 35 Ma (or so).  So I should use apwp.py to get directions at the site location (26$^{\\circ}$S/5$^{\\circ}$W). "
   ]
  },
  {
   "cell_type": "code",
   "execution_count": 14,
   "metadata": {},
   "outputs": [
    {
     "name": "stdout",
     "output_type": "stream",
     "text": [
      "Age  Paleolat.  Dec.  Inc.  Pole_lat.  Pole_Long.\r\n",
      "    33.0   -35.6   353.7   -55.1    78.9   202.9\r\n",
      "\r\n"
     ]
    }
   ],
   "source": [
    "!apwp.py -lat -26 -lon -5 -age 33 -P AF"
   ]
  },
  {
   "cell_type": "code",
   "execution_count": 15,
   "metadata": {},
   "outputs": [
    {
     "name": "stdout",
     "output_type": "stream",
     "text": [
      "Age  Paleolat.  Dec.  Inc.  Pole_lat.  Pole_Long.\r\n",
      "    23.0   -33.3     0.1   -52.7    82.7   174.6\r\n",
      "\r\n"
     ]
    }
   ],
   "source": [
    "!apwp.py -lat -26 -lon -5 -age 23 -P AF"
   ]
  },
  {
   "cell_type": "markdown",
   "metadata": {},
   "source": [
    "We'll have to read the data in (again - see solutions to Chapter 15), and calculation averages at the top and the bottom."
   ]
  },
  {
   "cell_type": "code",
   "execution_count": 16,
   "metadata": {},
   "outputs": [
    {
     "name": "stdout",
     "output_type": "stream",
     "text": [
      "146.7 55.23\n"
     ]
    }
   ],
   "source": [
    "specimens=pd.read_csv('../Chapter_15/Chapter_15/specimens.txt',sep='\\t',header=1)\n",
    "specimens=specimens.dropna(subset=['analysts']) # kill unwanted lines with duplicate or irrelevent info\n",
    "specimens['site']=specimens['specimen'] # make a column with site name\n",
    "sites=pd.read_csv('../Chapter_15/Chapter_15/sites.txt',sep='\\t',header=1)\n",
    "data=pd.merge(specimens,sites,on='site') # merge the two data frames on site\n",
    "\n",
    "\n",
    "MaxDepth=data.core_depth.max()\n",
    "MinDepth=data.core_depth.min()\n",
    "print (MaxDepth,MinDepth)"
   ]
  },
  {
   "cell_type": "markdown",
   "metadata": {},
   "source": [
    "I want to take the top and bottom 10 meters.  "
   ]
  },
  {
   "cell_type": "code",
   "execution_count": 17,
   "metadata": {},
   "outputs": [
    {
     "name": "stdout",
     "output_type": "stream",
     "text": [
      "Top 10 m average inclination:  {'n': 276, 'ginc': 50.44166666666662, 'inc': 51.971666666666522, 'r': 265.08627542044349, 'k': 25.197630560984411, 'alpha95': 0.99944043396377436, 'csd': 16.136344856646417}\n",
      "Bottom 10 m average inclination:  {'n': 279, 'ginc': 54.244802867383484, 'inc': 59.254802867383177, 'r': 252.07921893718697, 'k': 10.326594884128928, 'alpha95': 0.9958058147194363, 'csd': 25.206146086833229}\n"
     ]
    }
   ],
   "source": [
    "TopIncs=data[data.core_depth<65].dir_inc.values\n",
    "BottomIncs=data[data.core_depth>136].dir_inc.values\n",
    "print ('Top 10 m average inclination: ',pmag.doincfish(TopIncs))\n",
    "print ('Bottom 10 m average inclination: ',pmag.doincfish(BottomIncs))"
   ]
  },
  {
   "cell_type": "markdown",
   "metadata": {},
   "source": [
    "Wow.  These data (50 and 54 respectively) match really well with the Besse and Courtillot (2002) predictions of 53 and 55 respectively.   In fact, they used the Site 522 data to help make their APWPs! "
   ]
  },
  {
   "cell_type": "markdown",
   "metadata": {},
   "source": [
    "## Problem 3a:"
   ]
  },
  {
   "cell_type": "markdown",
   "metadata": {},
   "source": [
    "I looked up in the Appendix and found the rotation pole for North America to South Africa at 90 Ma to be $\\lambda$=74.6, $\\phi$=-23, and $\\Omega$  = 33.8.   And we were told the North American pole to rotate:  $\\lambda=75.2^{\\circ}, \\phi=201^{\\circ}$. "
   ]
  },
  {
   "cell_type": "code",
   "execution_count": 18,
   "metadata": {},
   "outputs": [],
   "source": [
    "Prot=[74.6,-23,33.8] # finite pole of rotation\n",
    "plat,plon=75.2,201"
   ]
  },
  {
   "cell_type": "markdown",
   "metadata": {},
   "source": [
    "Now for the subroutine.  I'm cheating a bit because I already wrote this and it is in the **pmag** module.  But since I wrote it, I can copy it here.  I also am using the function **pmag.dir2cart** because we did that already a million times."
   ]
  },
  {
   "cell_type": "code",
   "execution_count": 19,
   "metadata": {},
   "outputs": [],
   "source": [
    "def PTrot(EP,Lats,Lons):\n",
    "    \"\"\" Does rotation of points on a globe  by finite rotations, \n",
    "    using method of Cox and Hart 1986, box 7-3. \"\"\"\n",
    "# gets user input of Rotation pole lat,long, omega for plate and converts to radians\n",
    "    E=pmag.dir2cart([EP[1],EP[0],1.])\n",
    "    omega=EP[2]*np.pi/180.\n",
    "    RLats,RLons=[],[]\n",
    "    for k in range(len(Lats)):\n",
    "      if Lats[k]<=90.: # peel off delimiters\n",
    "# converts to rotation pole to cartesian coordinates\n",
    "        A=pmag.dir2cart([Lons[k],Lats[k],1.])\n",
    "# defines cartesian coordinates of the pole A\n",
    "        R=[[0.,0.,0.],[0.,0.,0.],[0.,0.,0.]]\n",
    "        R[0][0]=E[0]*E[0]*(1-np.cos(omega)) + np.cos(omega)\n",
    "        R[0][1]=E[0]*E[1]*(1-np.cos(omega)) - E[2]*np.sin(omega)\n",
    "        R[0][2]=E[0]*E[2]*(1-np.cos(omega)) + E[1]*np.sin(omega)\n",
    "        R[1][0]=E[1]*E[0]*(1-np.cos(omega)) + E[2]*np.sin(omega)\n",
    "        R[1][1]=E[1]*E[1]*(1-np.cos(omega)) + np.cos(omega)\n",
    "        R[1][2]=E[1]*E[2]*(1-np.cos(omega)) - E[0]*np.sin(omega)\n",
    "        R[2][0]=E[2]*E[0]*(1-np.cos(omega)) - E[1]*np.sin(omega)\n",
    "        R[2][1]=E[2]*E[1]*(1-np.cos(omega)) + E[0]*np.sin(omega)\n",
    "        R[2][2]=E[2]*E[2]*(1-np.cos(omega)) + np.cos(omega)\n",
    "# sets up rotation matrix\n",
    "        Ap=[0,0,0]\n",
    "        for i in range(3):\n",
    "            for j in range(3):\n",
    "                Ap[i]+=R[i][j]*A[j]\n",
    "# does the rotation\n",
    "        Prot=pmag.cart2dir(Ap)\n",
    "        RLats.append(Prot[1])\n",
    "        RLons.append(Prot[0])\n",
    "      else:  # preserve delimiters\n",
    "        RLats.append(Lats[k])\n",
    "        RLons.append(Lons[k])\n",
    "    return RLats,RLons\n"
   ]
  },
  {
   "cell_type": "markdown",
   "metadata": {},
   "source": [
    "Now to call it with all my parameters. "
   ]
  },
  {
   "cell_type": "code",
   "execution_count": 20,
   "metadata": {},
   "outputs": [
    {
     "name": "stdout",
     "output_type": "stream",
     "text": [
      "([67.092529767349802], [244.36711746757442])\n"
     ]
    }
   ],
   "source": [
    "print (PTrot(Prot,[plat],[plon]))"
   ]
  },
  {
   "cell_type": "markdown",
   "metadata": {},
   "source": [
    "The African pole is $\\lambda=66.8^{\\circ}, \\phi=244.5^{\\circ}$, and we got 67.1$^{\\circ}$ and 244.4$^{\\circ}$.  Hot diggety dog.  (Now you know how old I am.)"
   ]
  },
  {
   "cell_type": "markdown",
   "metadata": {},
   "source": [
    "## Problem 4a:"
   ]
  },
  {
   "cell_type": "markdown",
   "metadata": {},
   "source": [
    "I went to the MagIC search engine  and downloaded late Cretaceous data from Europe  as instructed in the book.  I saved both the sites and the locations tables.  Now I'll unpack the data files with **download_magic.py**"
   ]
  },
  {
   "cell_type": "code",
   "execution_count": 21,
   "metadata": {},
   "outputs": [
    {
     "name": "stdout",
     "output_type": "stream",
     "text": [
      "Using default arguments for: -F, -A, -ID, -Fsa, -Fsi, -O, -sep\n",
      "working on:  'contribution'\n",
      "1  records written to file  Chapter_16/Europe/contribution.txt\n",
      "contribution  data put in  Chapter_16/Europe/contribution.txt\n",
      "working on:  'locations'\n",
      "250  records written to file  Chapter_16/Europe/locations.txt\n",
      "locations  data put in  Chapter_16/Europe/locations.txt\n"
     ]
    }
   ],
   "source": [
    "!download_magic.py -WD  Chapter_16/Europe -f magic_downloaded_rows.txt"
   ]
  },
  {
   "cell_type": "markdown",
   "metadata": {},
   "source": [
    "So, let's take a look at what we have by reading the location.txt file into a Pandas DataFrame and finding the method codes available. "
   ]
  },
  {
   "cell_type": "code",
   "execution_count": 22,
   "metadata": {},
   "outputs": [
    {
     "data": {
      "text/plain": [
       "array(['DE-DI:LT-AF-Z:LP-DC2', 'DE-DI:LT-T-Z:LP-DC4',\n",
       "       'DE-DI:LT-AF-Z:LT-T-Z:LP-DC2', 'DE-DI:LT-AF-Z:LT-T-Z:LP-DC4',\n",
       "       'DE-DI:LT-AF-Z:LT-T-Z:LP-DC3', 'DE-DI:LT-T-Z:LP-DC3',\n",
       "       'DE-DI:LT-AF-Z:LP-DC3', 'DE-DI:LT-NO:LP-DC0', 'DE-DI:LT-T-Z:LP-DC2',\n",
       "       'DE-DI:LT-NO:LP-DC1', 'DE-DI:LT-CHEM:LT-T-Z:LP-DC3',\n",
       "       'DE-DI:LT-AF-Z:LT-T-Z:LP-DC5', 'DE-VGP:FS-H:LT-AF-Z:SO-NO:LP-DC3',\n",
       "       'DE-DI:FS-H:LT-AF-Z:SO-NO:LP-DC3', 'DE-DI:LT-T-Z:LT-T-Z:LP-DC4',\n",
       "       'DE-DI:FS-H:LT-AF-Z:SO-NO:LP-DC2'], dtype=object)"
      ]
     },
     "execution_count": 22,
     "metadata": {},
     "output_type": "execute_result"
    }
   ],
   "source": [
    "poles=pd.read_csv('Chapter_16/Europe/locations.txt',sep='\\t',header=1)\n",
    "poles.method_codes.unique()\n"
   ]
  },
  {
   "cell_type": "markdown",
   "metadata": {},
   "source": [
    "Now let's fish out the \"best\" poles with LP-DC4 or LP-DC5. "
   ]
  },
  {
   "cell_type": "code",
   "execution_count": 26,
   "metadata": {},
   "outputs": [],
   "source": [
    "dc4=poles[poles.method_codes.str.contains('DC4')]\n",
    "dc5=poles[poles.method_codes.str.contains('DC5')]\n",
    "best_poles=pd.concat([dc4,dc5])"
   ]
  },
  {
   "cell_type": "markdown",
   "metadata": {},
   "source": [
    "## Problem 4b:"
   ]
  },
  {
   "cell_type": "markdown",
   "metadata": {},
   "source": [
    "Some of the data were included in other results, were overprints, or were otherwise superceded.  These details are in a comment field called description.  So let's read these descriptions and figure out how to eliminate the ones we don't want. "
   ]
  },
  {
   "cell_type": "code",
   "execution_count": 28,
   "metadata": {},
   "outputs": [
    {
     "name": "stdout",
     "output_type": "stream",
     "text": [
      "2 Fransian - Famennian. Thermal, characteristic component, 500-610C. IRM, 3-axis Jrs-T (HEM, MAGN). Late Jurassic - Early Cretaceous remagnetisation suggested.\n",
      "5 Upper Hauterivian to Albian. Extent Thickness 117m. Thermal to 575C, AF to 100mT, characteristic component.\n",
      "6 Upper Hauterivian to Albian. Extent Thickness 117m. Thermal to 575C, AF to 100mT, characteristic component.\n",
      "7 Upper Hauterivian to Albian. Extent Thickness 117m. Thermal to 575C, AF to 100mT, characteristic component.\n",
      "8 Upper Hauterivian to Albian. Extent Thickness 117m. Thermal to 575C, AF to 100mT, characteristic component.\n",
      "11 Neocomian to Aptian age?. AF to 100mT, thermal to 300C, characteristic component. Secondary magnetization mid-Tertiary?.\n",
      "12 Neocomian to Aptian age?. AF to 100mT, thermal to 300C, characteristic component. Secondary magnetization mid-Tertiary?.\n",
      "29 Aptian to Albian. AF to 80mT, thermal to 500C, characteristic component. IRM (no sat. 1. 2T). Data incl. in RESULTNOS 9235, 9236.\n",
      "30 Aptian to Albian. AF to 80mT, thermal to 500C, characteristic component. IRM (no sat. 1. 2T). Data incl. in RESULTNOS 9235, 9236.\n",
      "36 Aptian to Albian. Thermal to 500C, characteristic component 250-500C. IRM (sat. 0. 4T) ; HYST.\n",
      "37 Aptian to Albian. Thermal to 500C, characteristic component 250-500C. IRM (sat. 0. 4T) ; HYST.\n",
      "38 Berriasian to Barremian. Group 1. Thermal to 500C, characteristic component 250-500C. IRM (sat. 0. 4T) ; HYST. Remagnetized in Albian-Aptian.\n",
      "39 Berriasian to Barremian. Group 1. Thermal to 500C, characteristic component 250-500C. IRM (sat. 0. 4T) ; HYST. Remagnetized in Albian-Aptian.\n",
      "47 AF to 60mT, thermal to 550C, characteristic component.\n",
      "48 AF to 60mT, thermal to 550C, characteristic component.\n",
      "49 Middle to Late Oxfordian. Moneva S Comp. . Thermal to 580C, intermediate component 350-450C. SUSC. Overprint in Cretaceous Normal Zone.\n",
      "50 Middle to Late Oxfordian. Moneva S Comp. . Thermal to 580C, intermediate component 350-450C. SUSC. Overprint in Cretaceous Normal Zone.\n",
      "51 Pliensbachian to Callovian age. Thermal to 650C. Js-T (CT 100, 650C) , OP (GOETH, HEM, MAGN) , SUSC, AN. Late Cretaceous magnetization.\n",
      "52 Pliensbachian to Callovian age. Thermal to 650C. Js-T (CT 100, 650C) , OP (GOETH, HEM, MAGN) , SUSC, AN. Late Cretaceous magnetization.\n",
      "53 Pliensbachian to Callovian age. Thermal to 650C. Js-T (CT 100, 650C) , OP (GOETH, HEM, MAGN) , SUSC, AN. Late Cretaceous magnetization.\n",
      "55 Thermal to 560C, characteristic component. IRM (MAGN, HEM) ; SUSC; AN.\n",
      "56 Thermal to 560C, characteristic component. IRM (MAGN, HEM) ; SUSC; AN.\n",
      "57 Senonian age. AF 35-100mT, thermal 300-640C, characteristic component. Includes data from REFNO 2670.\n",
      "58 Senonian age. AF 35-100mT, thermal 300-640C, characteristic component. Includes data from REFNO 2670.\n",
      "59 Senonian age. AF 35-100mT, thermal 300-640C, characteristic component. Includes data from REFNO 2670.\n",
      "60 Senonian age. AF 35-100mT, thermal 300-640C, characteristic component. Includes data from REFNO 2670.\n",
      "76 Late Turonian to Santonian. Thermal to 580C, characteristic component.\n",
      "77 Late Turonian to Santonian. Thermal to 580C, characteristic component.\n",
      "98 Berriasian to Barremian. Group 2. Thermal to 500C, characteristic component 250-500C. IRM (sat. 0. 4T) ; HYST. Remagnetized in Albian-Aptian.\n",
      "99 Berriasian to Barremian. Group 2. Thermal to 500C, characteristic component 250-500C. IRM (sat. 0. 4T) ; HYST. Remagnetized in Albian-Aptian.\n",
      "100 Cenomanian to Coniacian. Thermal to 500C, characteristic component 250-500C. IRM (sat. 0. 4T) ; HYST.\n",
      "101 Cenomanian to Coniacian. Thermal to 500C, characteristic component 250-500C. IRM (sat. 0. 4T) ; HYST.\n",
      "119 Applecross Formation. Eishort anticline. Secondary. AF to 180mT, thermal to 700C. Early Tertiary overprint from Skye dykes.\n",
      "120 Applecross Formation. Eishort anticline. Secondary. AF to 180mT, thermal to 700C. Early Tertiary overprint from Skye dykes.\n",
      "121 Applecross Formation. Eishort anticline. Secondary. AF to 180mT, thermal to 700C. Early Tertiary overprint from Skye dykes.\n",
      "145 Spathian to Anisian age. B Component. Thermal to 680C. component 300-600C. Late Cretaceous to Eocene overprint suggested.\n",
      "146 Spathian to Anisian age. B Component. Thermal to 680C. component 300-600C. Late Cretaceous to Eocene overprint suggested.\n",
      "147 Spathian to Anisian age. B Component. Thermal to 680C. component 300-600C. Late Cretaceous to Eocene overprint suggested.\n",
      "148 Kimmeridgian and Potlandian, petroleum impregnated. Thermal to 600C, mostly AF to 90mT, high temp. high coer. comp. . IRM (sat. 0. 2T) ; HYST. Late Cretaceous to Early Tertiary age.\n",
      "149 Kimmeridgian and Potlandian, petroleum impregnated. Thermal to 600C, mostly AF to 90mT, high temp. high coer. comp. . IRM (sat. 0. 2T) ; HYST. Late Cretaceous to Early Tertiary age.\n",
      "150 Kimmeridgian and Potlandian, petroleum impregnated. Thermal to 600C, mostly AF to 90mT, high temp. high coer. comp. . IRM (sat. 0. 2T) ; HYST. Late Cretaceous to Early Tertiary age.\n",
      "164 C Component. AF to 100mT, thermal to 600C, characteristic component. IRM (sat. 0. 3T or no sat. 0. 9T). Tertiary age of mineralization. Conglomerate Test Parameters: Clasts not random. Conglomerate Test Significance: NO.\n",
      "169 Cenomanian to Turonian. Thermal to 580C, AF to 135mT, characteristic component. IRM (sat. 0. 2T, no sat. 2T) , SUSC (vs Temp). Mean of three localities calculated (12 sites).\n",
      "170 Cenomanian to Turonian. Thermal to 580C, AF to 135mT, characteristic component. IRM (sat. 0. 2T, no sat. 2T) , SUSC (vs Temp). Mean of three localities calculated (12 sites).\n",
      "172 Upper Jurassic. Miocene orogenesis. Overprint. Thermal, characteristic component 500-630C. Secondary component from REFNO 3413 included.\n",
      "173 Upper Jurassic. Miocene orogenesis. Overprint. Thermal, characteristic component 500-630C. Secondary component from REFNO 3413 included.\n",
      "174 Upper Jurassic. Miocene orogenesis. Overprint. Thermal, characteristic component 500-630C. Secondary component from REFNO 3413 included.\n",
      "178 Middle - Upper Triassic. B syn-folding. Thermal, characteristic component 400-580C. SUSC-T (HEM, MAGN). intersection of small circles applied. method of intersecting of small circles applied.\n",
      "179 Middle - Upper Triassic. B syn-folding. Thermal, characteristic component 400-580C. SUSC-T (HEM, MAGN). intersection of small circles applied. method of intersecting of small circles applied.\n",
      "180 Middle - Upper Triassic. B syn-folding. Thermal, characteristic component 400-580C. SUSC-T (HEM, MAGN). intersection of small circles applied. method of intersecting of small circles applied.\n",
      "215 External Betic Cordillera. Mainly thermal to 675C, component 350-580C. IRM (no sat. 1. 0T).\n",
      "216 External Betic Cordillera. Mainly thermal to 675C, component 350-580C. IRM (no sat. 1. 0T).\n",
      "230 Fransian - Famennian. Thermal, characteristic component, 500-610C. IRM, 3-axis Jrs-T (HEM, MAGN). Late Jurassic - Early Cretaceous remagnetisation suggested.\n",
      "243 AF to 60mT, thermal to 550C, characteristic component. IRM (sat. 0. 2T).\n",
      "244 AF to 60mT, thermal to 550C, characteristic component. IRM (sat. 0. 2T).\n",
      "245 Middle to Late Oxfordian. Aguaton S Comp. . Thermal to 580C, intermediate component 350-450C. SUSC. Overprint in Cretaceous Normal Zone.\n",
      "246 Middle to Late Oxfordian. Aguaton S Comp. . Thermal to 580C, intermediate component 350-450C. SUSC. Overprint in Cretaceous Normal Zone.\n",
      "248 Albian - Cenomanian. AF and thermal, characteristic component, 400-600C, 20-100mT. IRM, SUSC-T, 3-axis Jrs-T (MAGN). Some data from RESULTNOS 6206, 6207, 8191 are included.\n",
      "249 Albian - Cenomanian. AF and thermal, characteristic component, 400-600C, 20-100mT. IRM, SUSC-T, 3-axis Jrs-T (MAGN). Some data from RESULTNOS 6206, 6207, 8191 are included.\n",
      "122 Carboniferous to Triassic. Extent 50 km. outcrops and boreholes. C Component. Thermal 100-300C+AF 35-40mT (sulphides) , 390-650C (other rocks). SUSC-T (MAGN). Early to Middle Eocene overprint.\n",
      "123 Carboniferous to Triassic. Extent 50 km. outcrops and boreholes. C Component. Thermal 100-300C+AF 35-40mT (sulphides) , 390-650C (other rocks). SUSC-T (MAGN). Early to Middle Eocene overprint.\n",
      "124 Carboniferous to Triassic. Extent 50 km. outcrops and boreholes. C Component. Thermal 100-300C+AF 35-40mT (sulphides) , 390-650C (other rocks). SUSC-T (MAGN). Early to Middle Eocene overprint.\n"
     ]
    }
   ],
   "source": [
    "for ind in best_poles.index:\n",
    "    print (ind, best_poles.loc[ind].description)"
   ]
  },
  {
   "cell_type": "markdown",
   "metadata": {},
   "source": [
    "Now we want to thumb through the  descriptions and eliminate the kind we don't want.  For example, if we make a list of unwanted descriptors (verprint, emagneti, uperseded, Data incl. in RESULTNOS), from the above list,  we can eliminate those. "
   ]
  },
  {
   "cell_type": "code",
   "execution_count": 35,
   "metadata": {},
   "outputs": [
    {
     "name": "stdout",
     "output_type": "stream",
     "text": [
      "5 Upper Hauterivian to Albian. Extent Thickness 117m. Thermal to 575C, AF to 100mT, characteristic component.\n",
      "6 Upper Hauterivian to Albian. Extent Thickness 117m. Thermal to 575C, AF to 100mT, characteristic component.\n",
      "7 Upper Hauterivian to Albian. Extent Thickness 117m. Thermal to 575C, AF to 100mT, characteristic component.\n",
      "8 Upper Hauterivian to Albian. Extent Thickness 117m. Thermal to 575C, AF to 100mT, characteristic component.\n",
      "36 Aptian to Albian. Thermal to 500C, characteristic component 250-500C. IRM (sat. 0. 4T) ; HYST.\n",
      "37 Aptian to Albian. Thermal to 500C, characteristic component 250-500C. IRM (sat. 0. 4T) ; HYST.\n",
      "47 AF to 60mT, thermal to 550C, characteristic component.\n",
      "48 AF to 60mT, thermal to 550C, characteristic component.\n",
      "51 Pliensbachian to Callovian age. Thermal to 650C. Js-T (CT 100, 650C) , OP (GOETH, HEM, MAGN) , SUSC, AN. Late Cretaceous magnetization.\n",
      "52 Pliensbachian to Callovian age. Thermal to 650C. Js-T (CT 100, 650C) , OP (GOETH, HEM, MAGN) , SUSC, AN. Late Cretaceous magnetization.\n",
      "53 Pliensbachian to Callovian age. Thermal to 650C. Js-T (CT 100, 650C) , OP (GOETH, HEM, MAGN) , SUSC, AN. Late Cretaceous magnetization.\n",
      "55 Thermal to 560C, characteristic component. IRM (MAGN, HEM) ; SUSC; AN.\n",
      "56 Thermal to 560C, characteristic component. IRM (MAGN, HEM) ; SUSC; AN.\n",
      "57 Senonian age. AF 35-100mT, thermal 300-640C, characteristic component. Includes data from REFNO 2670.\n",
      "58 Senonian age. AF 35-100mT, thermal 300-640C, characteristic component. Includes data from REFNO 2670.\n",
      "59 Senonian age. AF 35-100mT, thermal 300-640C, characteristic component. Includes data from REFNO 2670.\n",
      "60 Senonian age. AF 35-100mT, thermal 300-640C, characteristic component. Includes data from REFNO 2670.\n",
      "76 Late Turonian to Santonian. Thermal to 580C, characteristic component.\n",
      "77 Late Turonian to Santonian. Thermal to 580C, characteristic component.\n",
      "100 Cenomanian to Coniacian. Thermal to 500C, characteristic component 250-500C. IRM (sat. 0. 4T) ; HYST.\n",
      "101 Cenomanian to Coniacian. Thermal to 500C, characteristic component 250-500C. IRM (sat. 0. 4T) ; HYST.\n",
      "148 Kimmeridgian and Potlandian, petroleum impregnated. Thermal to 600C, mostly AF to 90mT, high temp. high coer. comp. . IRM (sat. 0. 2T) ; HYST. Late Cretaceous to Early Tertiary age.\n",
      "149 Kimmeridgian and Potlandian, petroleum impregnated. Thermal to 600C, mostly AF to 90mT, high temp. high coer. comp. . IRM (sat. 0. 2T) ; HYST. Late Cretaceous to Early Tertiary age.\n",
      "150 Kimmeridgian and Potlandian, petroleum impregnated. Thermal to 600C, mostly AF to 90mT, high temp. high coer. comp. . IRM (sat. 0. 2T) ; HYST. Late Cretaceous to Early Tertiary age.\n",
      "164 C Component. AF to 100mT, thermal to 600C, characteristic component. IRM (sat. 0. 3T or no sat. 0. 9T). Tertiary age of mineralization. Conglomerate Test Parameters: Clasts not random. Conglomerate Test Significance: NO.\n",
      "169 Cenomanian to Turonian. Thermal to 580C, AF to 135mT, characteristic component. IRM (sat. 0. 2T, no sat. 2T) , SUSC (vs Temp). Mean of three localities calculated (12 sites).\n",
      "170 Cenomanian to Turonian. Thermal to 580C, AF to 135mT, characteristic component. IRM (sat. 0. 2T, no sat. 2T) , SUSC (vs Temp). Mean of three localities calculated (12 sites).\n",
      "178 Middle - Upper Triassic. B syn-folding. Thermal, characteristic component 400-580C. SUSC-T (HEM, MAGN). intersection of small circles applied. method of intersecting of small circles applied.\n",
      "179 Middle - Upper Triassic. B syn-folding. Thermal, characteristic component 400-580C. SUSC-T (HEM, MAGN). intersection of small circles applied. method of intersecting of small circles applied.\n",
      "180 Middle - Upper Triassic. B syn-folding. Thermal, characteristic component 400-580C. SUSC-T (HEM, MAGN). intersection of small circles applied. method of intersecting of small circles applied.\n",
      "215 External Betic Cordillera. Mainly thermal to 675C, component 350-580C. IRM (no sat. 1. 0T).\n",
      "216 External Betic Cordillera. Mainly thermal to 675C, component 350-580C. IRM (no sat. 1. 0T).\n",
      "243 AF to 60mT, thermal to 550C, characteristic component. IRM (sat. 0. 2T).\n",
      "244 AF to 60mT, thermal to 550C, characteristic component. IRM (sat. 0. 2T).\n",
      "248 Albian - Cenomanian. AF and thermal, characteristic component, 400-600C, 20-100mT. IRM, SUSC-T, 3-axis Jrs-T (MAGN). Some data from RESULTNOS 6206, 6207, 8191 are included.\n",
      "249 Albian - Cenomanian. AF and thermal, characteristic component, 400-600C, 20-100mT. IRM, SUSC-T, 3-axis Jrs-T (MAGN). Some data from RESULTNOS 6206, 6207, 8191 are included.\n"
     ]
    }
   ],
   "source": [
    "Unwanted=['verprint','econdary','emagneti','uperseded','Data incl. in RESULT'] # verprint includes both Overprint and overprint\n",
    "# make a column for \"Use\" in best_poles and set to True\n",
    "best_poles['Use']=True\n",
    "# now go through and flag the bad boys\n",
    "for deleteme in Unwanted:\n",
    "    best_poles.loc[best_poles.description.str.contains(deleteme),'Use']='False'\n",
    "selected_poles=best_poles[best_poles.Use==True]\n",
    "for ind in selected_poles.index:\n",
    "    print (ind, selected_poles.loc[ind].description)\n",
    "\n"
   ]
  },
  {
   "cell_type": "markdown",
   "metadata": {},
   "source": [
    "Here's a list of all the locations we have"
   ]
  },
  {
   "cell_type": "code",
   "execution_count": 53,
   "metadata": {},
   "outputs": [
    {
     "data": {
      "text/plain": [
       "5                                       Cismon Section\n",
       "6                                       Cismon Section\n",
       "7                                       Cismon Section\n",
       "8                                       Cismon Section\n",
       "36                     Organya Aptian-Albian Sediments\n",
       "37                     Organya Aptian-Albian Sediments\n",
       "47                         Lower Cretaceous Limestones\n",
       "48                         Lower Cretaceous Limestones\n",
       "51                        Bulgarian Jurassic Sediments\n",
       "52                        Bulgarian Jurassic Sediments\n",
       "53                        Bulgarian Jurassic Sediments\n",
       "55                     Scaglia Formation, Marsica Area\n",
       "56                     Scaglia Formation, Marsica Area\n",
       "57                                       Scaglia Rossa\n",
       "58                                       Scaglia Rossa\n",
       "59                                       Scaglia Rossa\n",
       "60                                       Scaglia Rossa\n",
       "76                                 Lower Scaglia Rossa\n",
       "77                                 Lower Scaglia Rossa\n",
       "100             Organya Cenomanian-Coniacian Sediments\n",
       "101             Organya Cenomanian-Coniacian Sediments\n",
       "148                               Asphaltkalk Deposits\n",
       "149                               Asphaltkalk Deposits\n",
       "150                               Asphaltkalk Deposits\n",
       "164                      Muschelkalk Formation, Comp.C\n",
       "169                                 Apulian Limestones\n",
       "170                                 Apulian Limestones\n",
       "178                       Bulgarian Triassic Carbonate\n",
       "179                       Bulgarian Triassic Carbonate\n",
       "180                       Bulgarian Triassic Carbonate\n",
       "215                              Capas Rojas Formation\n",
       "216                              Capas Rojas Formation\n",
       "243                        Upper Cretaceous Limestones\n",
       "244                        Upper Cretaceous Limestones\n",
       "248    Lusitanian, Algarve Basins Cretaceous Sediments\n",
       "249    Lusitanian, Algarve Basins Cretaceous Sediments\n",
       "Name: location, dtype: object"
      ]
     },
     "execution_count": 53,
     "metadata": {},
     "output_type": "execute_result"
    }
   ],
   "source": [
    "selected_poles.location"
   ]
  },
  {
   "cell_type": "markdown",
   "metadata": {},
   "source": [
    "Oops.  Looks like we have a lot of duplicates in our 'selected' pole list.  So to verify, let's look at the latitudes and longitudes: \n"
   ]
  },
  {
   "cell_type": "code",
   "execution_count": 64,
   "metadata": {},
   "outputs": [
    {
     "data": {
      "text/html": [
       "<div>\n",
       "<style>\n",
       "    .dataframe thead tr:only-child th {\n",
       "        text-align: right;\n",
       "    }\n",
       "\n",
       "    .dataframe thead th {\n",
       "        text-align: left;\n",
       "    }\n",
       "\n",
       "    .dataframe tbody tr th {\n",
       "        vertical-align: top;\n",
       "    }\n",
       "</style>\n",
       "<table border=\"1\" class=\"dataframe\">\n",
       "  <thead>\n",
       "    <tr style=\"text-align: right;\">\n",
       "      <th></th>\n",
       "      <th>pole_lat</th>\n",
       "      <th>pole_lon</th>\n",
       "    </tr>\n",
       "  </thead>\n",
       "  <tbody>\n",
       "    <tr>\n",
       "      <th>5</th>\n",
       "      <td>44.2</td>\n",
       "      <td>257.3</td>\n",
       "    </tr>\n",
       "    <tr>\n",
       "      <th>6</th>\n",
       "      <td>44.2</td>\n",
       "      <td>257.3</td>\n",
       "    </tr>\n",
       "    <tr>\n",
       "      <th>7</th>\n",
       "      <td>44.2</td>\n",
       "      <td>257.3</td>\n",
       "    </tr>\n",
       "    <tr>\n",
       "      <th>8</th>\n",
       "      <td>44.2</td>\n",
       "      <td>257.3</td>\n",
       "    </tr>\n",
       "    <tr>\n",
       "      <th>36</th>\n",
       "      <td>77.1</td>\n",
       "      <td>233.9</td>\n",
       "    </tr>\n",
       "    <tr>\n",
       "      <th>37</th>\n",
       "      <td>77.1</td>\n",
       "      <td>233.9</td>\n",
       "    </tr>\n",
       "    <tr>\n",
       "      <th>47</th>\n",
       "      <td>70.0</td>\n",
       "      <td>192.0</td>\n",
       "    </tr>\n",
       "    <tr>\n",
       "      <th>48</th>\n",
       "      <td>70.0</td>\n",
       "      <td>192.0</td>\n",
       "    </tr>\n",
       "    <tr>\n",
       "      <th>51</th>\n",
       "      <td>77.0</td>\n",
       "      <td>313.0</td>\n",
       "    </tr>\n",
       "    <tr>\n",
       "      <th>52</th>\n",
       "      <td>77.0</td>\n",
       "      <td>313.0</td>\n",
       "    </tr>\n",
       "    <tr>\n",
       "      <th>53</th>\n",
       "      <td>77.0</td>\n",
       "      <td>313.0</td>\n",
       "    </tr>\n",
       "    <tr>\n",
       "      <th>55</th>\n",
       "      <td>73.0</td>\n",
       "      <td>203.0</td>\n",
       "    </tr>\n",
       "    <tr>\n",
       "      <th>56</th>\n",
       "      <td>73.0</td>\n",
       "      <td>203.0</td>\n",
       "    </tr>\n",
       "    <tr>\n",
       "      <th>57</th>\n",
       "      <td>63.4</td>\n",
       "      <td>220.2</td>\n",
       "    </tr>\n",
       "    <tr>\n",
       "      <th>58</th>\n",
       "      <td>63.4</td>\n",
       "      <td>220.2</td>\n",
       "    </tr>\n",
       "    <tr>\n",
       "      <th>59</th>\n",
       "      <td>63.4</td>\n",
       "      <td>220.2</td>\n",
       "    </tr>\n",
       "    <tr>\n",
       "      <th>60</th>\n",
       "      <td>63.4</td>\n",
       "      <td>220.2</td>\n",
       "    </tr>\n",
       "    <tr>\n",
       "      <th>76</th>\n",
       "      <td>49.5</td>\n",
       "      <td>271.1</td>\n",
       "    </tr>\n",
       "    <tr>\n",
       "      <th>77</th>\n",
       "      <td>49.5</td>\n",
       "      <td>271.1</td>\n",
       "    </tr>\n",
       "    <tr>\n",
       "      <th>100</th>\n",
       "      <td>85.1</td>\n",
       "      <td>242.1</td>\n",
       "    </tr>\n",
       "    <tr>\n",
       "      <th>101</th>\n",
       "      <td>85.1</td>\n",
       "      <td>242.1</td>\n",
       "    </tr>\n",
       "    <tr>\n",
       "      <th>148</th>\n",
       "      <td>75.8</td>\n",
       "      <td>159.4</td>\n",
       "    </tr>\n",
       "    <tr>\n",
       "      <th>149</th>\n",
       "      <td>75.8</td>\n",
       "      <td>159.4</td>\n",
       "    </tr>\n",
       "    <tr>\n",
       "      <th>150</th>\n",
       "      <td>75.8</td>\n",
       "      <td>159.4</td>\n",
       "    </tr>\n",
       "    <tr>\n",
       "      <th>164</th>\n",
       "      <td>86.9</td>\n",
       "      <td>164.7</td>\n",
       "    </tr>\n",
       "    <tr>\n",
       "      <th>169</th>\n",
       "      <td>56.0</td>\n",
       "      <td>261.0</td>\n",
       "    </tr>\n",
       "    <tr>\n",
       "      <th>170</th>\n",
       "      <td>56.0</td>\n",
       "      <td>261.0</td>\n",
       "    </tr>\n",
       "    <tr>\n",
       "      <th>178</th>\n",
       "      <td>72.8</td>\n",
       "      <td>128.1</td>\n",
       "    </tr>\n",
       "    <tr>\n",
       "      <th>179</th>\n",
       "      <td>72.8</td>\n",
       "      <td>128.1</td>\n",
       "    </tr>\n",
       "    <tr>\n",
       "      <th>180</th>\n",
       "      <td>72.8</td>\n",
       "      <td>128.1</td>\n",
       "    </tr>\n",
       "    <tr>\n",
       "      <th>215</th>\n",
       "      <td>38.1</td>\n",
       "      <td>84.4</td>\n",
       "    </tr>\n",
       "    <tr>\n",
       "      <th>216</th>\n",
       "      <td>38.1</td>\n",
       "      <td>84.4</td>\n",
       "    </tr>\n",
       "    <tr>\n",
       "      <th>243</th>\n",
       "      <td>53.0</td>\n",
       "      <td>136.0</td>\n",
       "    </tr>\n",
       "    <tr>\n",
       "      <th>244</th>\n",
       "      <td>53.0</td>\n",
       "      <td>136.0</td>\n",
       "    </tr>\n",
       "    <tr>\n",
       "      <th>248</th>\n",
       "      <td>70.0</td>\n",
       "      <td>253.0</td>\n",
       "    </tr>\n",
       "    <tr>\n",
       "      <th>249</th>\n",
       "      <td>70.0</td>\n",
       "      <td>253.0</td>\n",
       "    </tr>\n",
       "  </tbody>\n",
       "</table>\n",
       "</div>"
      ],
      "text/plain": [
       "     pole_lat  pole_lon\n",
       "5        44.2     257.3\n",
       "6        44.2     257.3\n",
       "7        44.2     257.3\n",
       "8        44.2     257.3\n",
       "36       77.1     233.9\n",
       "37       77.1     233.9\n",
       "47       70.0     192.0\n",
       "48       70.0     192.0\n",
       "51       77.0     313.0\n",
       "52       77.0     313.0\n",
       "53       77.0     313.0\n",
       "55       73.0     203.0\n",
       "56       73.0     203.0\n",
       "57       63.4     220.2\n",
       "58       63.4     220.2\n",
       "59       63.4     220.2\n",
       "60       63.4     220.2\n",
       "76       49.5     271.1\n",
       "77       49.5     271.1\n",
       "100      85.1     242.1\n",
       "101      85.1     242.1\n",
       "148      75.8     159.4\n",
       "149      75.8     159.4\n",
       "150      75.8     159.4\n",
       "164      86.9     164.7\n",
       "169      56.0     261.0\n",
       "170      56.0     261.0\n",
       "178      72.8     128.1\n",
       "179      72.8     128.1\n",
       "180      72.8     128.1\n",
       "215      38.1      84.4\n",
       "216      38.1      84.4\n",
       "243      53.0     136.0\n",
       "244      53.0     136.0\n",
       "248      70.0     253.0\n",
       "249      70.0     253.0"
      ]
     },
     "execution_count": 64,
     "metadata": {},
     "output_type": "execute_result"
    }
   ],
   "source": [
    "selected_poles[['pole_lat','pole_lon']]"
   ]
  },
  {
   "cell_type": "markdown",
   "metadata": {},
   "source": [
    "And yeah, there are a lot of duplicates.  So we want a unique list of poles.  I can use the Pandas drop_duplicates function!"
   ]
  },
  {
   "cell_type": "code",
   "execution_count": 66,
   "metadata": {},
   "outputs": [
    {
     "data": {
      "text/html": [
       "<div>\n",
       "<style>\n",
       "    .dataframe thead tr:only-child th {\n",
       "        text-align: right;\n",
       "    }\n",
       "\n",
       "    .dataframe thead th {\n",
       "        text-align: left;\n",
       "    }\n",
       "\n",
       "    .dataframe tbody tr th {\n",
       "        vertical-align: top;\n",
       "    }\n",
       "</style>\n",
       "<table border=\"1\" class=\"dataframe\">\n",
       "  <thead>\n",
       "    <tr style=\"text-align: right;\">\n",
       "      <th></th>\n",
       "      <th>pole_lat</th>\n",
       "      <th>pole_lon</th>\n",
       "    </tr>\n",
       "  </thead>\n",
       "  <tbody>\n",
       "    <tr>\n",
       "      <th>5</th>\n",
       "      <td>44.2</td>\n",
       "      <td>257.3</td>\n",
       "    </tr>\n",
       "    <tr>\n",
       "      <th>36</th>\n",
       "      <td>77.1</td>\n",
       "      <td>233.9</td>\n",
       "    </tr>\n",
       "    <tr>\n",
       "      <th>47</th>\n",
       "      <td>70.0</td>\n",
       "      <td>192.0</td>\n",
       "    </tr>\n",
       "    <tr>\n",
       "      <th>51</th>\n",
       "      <td>77.0</td>\n",
       "      <td>313.0</td>\n",
       "    </tr>\n",
       "    <tr>\n",
       "      <th>55</th>\n",
       "      <td>73.0</td>\n",
       "      <td>203.0</td>\n",
       "    </tr>\n",
       "    <tr>\n",
       "      <th>57</th>\n",
       "      <td>63.4</td>\n",
       "      <td>220.2</td>\n",
       "    </tr>\n",
       "    <tr>\n",
       "      <th>76</th>\n",
       "      <td>49.5</td>\n",
       "      <td>271.1</td>\n",
       "    </tr>\n",
       "    <tr>\n",
       "      <th>100</th>\n",
       "      <td>85.1</td>\n",
       "      <td>242.1</td>\n",
       "    </tr>\n",
       "    <tr>\n",
       "      <th>148</th>\n",
       "      <td>75.8</td>\n",
       "      <td>159.4</td>\n",
       "    </tr>\n",
       "    <tr>\n",
       "      <th>164</th>\n",
       "      <td>86.9</td>\n",
       "      <td>164.7</td>\n",
       "    </tr>\n",
       "    <tr>\n",
       "      <th>169</th>\n",
       "      <td>56.0</td>\n",
       "      <td>261.0</td>\n",
       "    </tr>\n",
       "    <tr>\n",
       "      <th>178</th>\n",
       "      <td>72.8</td>\n",
       "      <td>128.1</td>\n",
       "    </tr>\n",
       "    <tr>\n",
       "      <th>215</th>\n",
       "      <td>38.1</td>\n",
       "      <td>84.4</td>\n",
       "    </tr>\n",
       "    <tr>\n",
       "      <th>243</th>\n",
       "      <td>53.0</td>\n",
       "      <td>136.0</td>\n",
       "    </tr>\n",
       "    <tr>\n",
       "      <th>248</th>\n",
       "      <td>70.0</td>\n",
       "      <td>253.0</td>\n",
       "    </tr>\n",
       "  </tbody>\n",
       "</table>\n",
       "</div>"
      ],
      "text/plain": [
       "     pole_lat  pole_lon\n",
       "5        44.2     257.3\n",
       "36       77.1     233.9\n",
       "47       70.0     192.0\n",
       "51       77.0     313.0\n",
       "55       73.0     203.0\n",
       "57       63.4     220.2\n",
       "76       49.5     271.1\n",
       "100      85.1     242.1\n",
       "148      75.8     159.4\n",
       "164      86.9     164.7\n",
       "169      56.0     261.0\n",
       "178      72.8     128.1\n",
       "215      38.1      84.4\n",
       "243      53.0     136.0\n",
       "248      70.0     253.0"
      ]
     },
     "execution_count": 66,
     "metadata": {},
     "output_type": "execute_result"
    }
   ],
   "source": [
    "selected_poles=selected_poles.drop_duplicates(['pole_lat','pole_lon'])\n",
    "selected_poles[['pole_lat','pole_lon']]"
   ]
  },
  {
   "cell_type": "markdown",
   "metadata": {},
   "source": [
    "Now we have a pared down list of poles.  "
   ]
  },
  {
   "cell_type": "markdown",
   "metadata": {},
   "source": [
    "## Problem 4c:"
   ]
  },
  {
   "cell_type": "markdown",
   "metadata": {},
   "source": [
    "We have to use a program named pt_rot.py, so let's find out what it does."
   ]
  },
  {
   "cell_type": "code",
   "execution_count": 67,
   "metadata": {},
   "outputs": [
    {
     "name": "stdout",
     "output_type": "stream",
     "text": [
      "\r\n",
      "    NAME \r\n",
      "        pt_rot.py \r\n",
      "\r\n",
      "    DESCRIPTION\r\n",
      "        rotates pt according to specified age and plate\r\n",
      " \r\n",
      "    SYNTAX\r\n",
      "        pt_rot.py [command line options]\r\n",
      "\r\n",
      "    OPTIONS\r\n",
      "        -h prints help and quits\r\n",
      "        -f file with lon lat plate age Dplate as space delimited input\r\n",
      "           Dplate is the destination plate coordinates desires \r\n",
      "           - default is \"fixed south africa\"\r\n",
      "           Dplate should be one of: [nwaf, neaf,saf,aus, eur, ind, sam, ant, grn, nam]\r\n",
      "        -ff file Efile,   file  has lat lon data file and Efile has sequential rotation poles: Elat Elon Omega \r\n",
      "        -F OFILE, output sites (pmag_results) formatted file with rotated points stored in pole_lon, pole_lat (vgp_lon, vgp_lat).  (data_model=2.5)\r\n",
      "           default is to print out rotated lon, lat to standard output\r\n",
      "        -dm [2.5,3] set data model for output.  Default is 3 \r\n",
      "    \r\n"
     ]
    }
   ],
   "source": [
    "!pt_rot.py -h"
   ]
  },
  {
   "cell_type": "markdown",
   "metadata": {},
   "source": [
    "We are going to use the -ff option, so  we have to save the data in a file with these keys: pole_lat,pole_lon. "
   ]
  },
  {
   "cell_type": "code",
   "execution_count": 68,
   "metadata": {},
   "outputs": [
    {
     "name": "stdout",
     "output_type": "stream",
     "text": [
      "4.420000000000000284e+01 2.573000000000000114e+02\r\n",
      "7.709999999999999432e+01 2.339000000000000057e+02\r\n",
      "7.000000000000000000e+01 1.920000000000000000e+02\r\n",
      "7.700000000000000000e+01 3.130000000000000000e+02\r\n",
      "7.300000000000000000e+01 2.030000000000000000e+02\r\n",
      "6.339999999999999858e+01 2.201999999999999886e+02\r\n",
      "4.950000000000000000e+01 2.711000000000000227e+02\r\n",
      "8.509999999999999432e+01 2.420999999999999943e+02\r\n",
      "7.579999999999999716e+01 1.594000000000000057e+02\r\n",
      "8.690000000000000568e+01 1.646999999999999886e+02\r\n",
      "5.600000000000000000e+01 2.610000000000000000e+02\r\n",
      "7.279999999999999716e+01 1.280999999999999943e+02\r\n",
      "3.810000000000000142e+01 8.440000000000000568e+01\r\n",
      "5.300000000000000000e+01 1.360000000000000000e+02\r\n",
      "7.000000000000000000e+01 2.530000000000000000e+02\r\n"
     ]
    }
   ],
   "source": [
    "out=np.array([selected_poles.pole_lat.values,selected_poles.pole_lon.values]).transpose()\n",
    "np.savetxt('Chapter_16/selected_poles.out',out)\n",
    "!cat Chapter_16/selected_poles.out"
   ]
  },
  {
   "cell_type": "markdown",
   "metadata": {},
   "source": [
    "It's ugly, but it will do. For the next part, I put the rotation poles for Europe => Africa and Africa => North America from the Appendix in a file called Epole in the Chapter_16 directory, so let's have a look at that."
   ]
  },
  {
   "cell_type": "code",
   "execution_count": 69,
   "metadata": {},
   "outputs": [
    {
     "name": "stdout",
     "output_type": "stream",
     "text": [
      "40.2 -12.5 28.5\r\n",
      "70 -24 -40.2\r\n"
     ]
    }
   ],
   "source": [
    "!cat Chapter_16/Epoles"
   ]
  },
  {
   "cell_type": "markdown",
   "metadata": {},
   "source": [
    "We should be all set to run pt_rot.py now:"
   ]
  },
  {
   "cell_type": "code",
   "execution_count": 70,
   "metadata": {},
   "outputs": [
    {
     "name": "stdout",
     "output_type": "stream",
     "text": [
      "15  records written to file  ./Chapter_16/selected_poles.rot\n",
      "tab \tlocations\n",
      "pole_lat\tpole_lon\n",
      "44.2\t257.3\n",
      "77.1\t233.9\n",
      "70.0\t192.0\n",
      "77.0\t313.0\n",
      "73.0\t203.0\n",
      "63.4\t220.2\n",
      "49.5\t271.1\n",
      "85.1\t242.1\n",
      "75.8\t159.4\n",
      "86.9\t164.7\n",
      "56.0\t261.0\n",
      "72.8\t128.1\n",
      "273.0\t85.4\n",
      "53.0\t136.0\n",
      "70.0\t253.0\n"
     ]
    }
   ],
   "source": [
    "!pt_rot.py -ff Chapter_16/selected_poles.out Chapter_16/Epoles -F Chapter_16/selected_poles.rot\n",
    "!cat Chapter_16/selected_poles.rot"
   ]
  },
  {
   "cell_type": "markdown",
   "metadata": {},
   "source": [
    "We can plot that file using **ipmag.plot_vgp** function (similar to in Chapter 14).  So, we need to import the Basemap function from mpl_toolkits (you might have to install this)."
   ]
  },
  {
   "cell_type": "code",
   "execution_count": 71,
   "metadata": {},
   "outputs": [],
   "source": [
    "from mpl_toolkits.basemap import Basemap"
   ]
  },
  {
   "cell_type": "markdown",
   "metadata": {},
   "source": [
    "Now we need to do two things:  1) read in the file _selected_poles.rot_ and 2) figure out what the pole for North America was.  First the latter.  I can use the program apwp.py for this, but I have to put in dummy lat and lon keys and ignore the Paleolat, Dec, Inc output and zoom in on the Pole_lat Pole_long output. "
   ]
  },
  {
   "cell_type": "code",
   "execution_count": 72,
   "metadata": {},
   "outputs": [
    {
     "name": "stdout",
     "output_type": "stream",
     "text": [
      "Age  Paleolat.  Dec.  Inc.  Pole_lat.  Pole_Long.\r\n",
      "   100.0    38.8   352.4    58.1    81.5   198.3\r\n",
      "\r\n"
     ]
    }
   ],
   "source": [
    "!apwp.py -lat 33 -lon -117 -P NA -age 100"
   ]
  },
  {
   "cell_type": "markdown",
   "metadata": {},
   "source": [
    "So the North American pole was 81.5N/198.3E at 100 Ma."
   ]
  },
  {
   "cell_type": "code",
   "execution_count": 73,
   "metadata": {},
   "outputs": [],
   "source": [
    "NApole_lat,NApole_lon=81.5, 198.3"
   ]
  },
  {
   "cell_type": "markdown",
   "metadata": {},
   "source": [
    "Read in the data from selected_poles.rot as a DataFrame. selected_poles.rot is a regular MagIC formated file, so we know what to do by now:"
   ]
  },
  {
   "cell_type": "code",
   "execution_count": 75,
   "metadata": {},
   "outputs": [],
   "source": [
    "rot_poles=pd.read_csv('Chapter_16/selected_poles.rot',sep='\\t',header=1)"
   ]
  },
  {
   "cell_type": "markdown",
   "metadata": {},
   "source": [
    "And we plot the stuff:  "
   ]
  },
  {
   "cell_type": "code",
   "execution_count": 76,
   "metadata": {},
   "outputs": [
    {
     "name": "stderr",
     "output_type": "stream",
     "text": [
      "/Users/ltauxe/anaconda3/lib/python3.6/site-packages/mpl_toolkits/basemap/__init__.py:1711: MatplotlibDeprecationWarning: The axesPatch function was deprecated in version 2.1. Use Axes.patch instead.\n",
      "  if limb is not ax.axesPatch:\n"
     ]
    },
    {
     "data": {
      "image/png": "[encoded data removed]",
      "text/plain": [
       "<matplotlib.figure.Figure at 0x11acb2208>"
      ]
     },
     "metadata": {},
     "output_type": "display_data"
    }
   ],
   "source": [
    "m=Basemap(projection='ortho',lat_0=90,lon_0=0,resolution='c')\n",
    "plt.figure(num=3,figsize=(6,6))\n",
    "m.drawcoastlines()\n",
    "m.fillcontinents(color='bisque')\n",
    "m.drawmeridians(np.arange(0,360,30))\n",
    "m.drawparallels(np.arange(-60,90,30))\n",
    "ipmag.plot_vgp(m,rot_poles['pole_lon'].tolist(),rot_poles['pole_lat'].tolist(),\\\n",
    "               color='b',label='rotated European poles',legend='yes')\n",
    "ipmag.plot_vgp(m,[NApole_lon],[NApole_lat], color='r',\\\n",
    "               label='NA Pole',marker='^',legend='yes')"
   ]
  },
  {
   "cell_type": "markdown",
   "metadata": {},
   "source": [
    "Boy that is super crappy agreement!  The European poles are pretty scattered and a lot are 'far sided'.  A lot of them are sediments.  I wonder whether we have an 'inclination shallowing' problem.  You can't tell because we only have the poles - not the original data.  So someone should get to work on this problem. "
   ]
  },
  {
   "cell_type": "markdown",
   "metadata": {},
   "source": [
    "## Problem 4d:"
   ]
  },
  {
   "cell_type": "markdown",
   "metadata": {},
   "source": [
    "For this we need the blessed cont_rot.py.  So first, let's take it out for a spin."
   ]
  },
  {
   "cell_type": "code",
   "execution_count": 77,
   "metadata": {},
   "outputs": [
    {
     "name": "stdout",
     "output_type": "stream",
     "text": [
      "\r\n",
      "    NAME \r\n",
      "        cont_rot.py \r\n",
      "\r\n",
      "    DESCRIPTION\r\n",
      "        rotates continental fragments according to specified Euler pole\r\n",
      " \r\n",
      "    SYNTAX\r\n",
      "        cont_rot.py [command line options]\r\n",
      "\r\n",
      "    OPTIONS\r\n",
      "        -h prints help and quits\r\n",
      "        -con [af, congo, kala, aus, balt, eur, ind, sam, ant, grn, lau, nam, gond] , specify colon delimited list of continents to be displayed, e.g., af, af:aus], etc\r\n",
      "        -age use finite rotations of Torsvik et al. 2008 for specific age (5 Ma increments <325Ma)\r\n",
      "             rotates to paleomagnetic reference frame \r\n",
      "             available conts: [congo kala aus eur ind sam ant grn nam]\r\n",
      "        -sac include rotation of south african craton to pmag reference\r\n",
      "        -sym [ro, bs, g^, r., b-, etc.] [1,5,10] symbol and size for continent\r\n",
      "           colors are r=red,b=blue,g=green, etc.\r\n",
      "           symbols are '.' for points, ^, for triangle, s for square, etc.\r\n",
      "            -, for lines, -- for dotted lines, see matplotlib online documentation for plot()\r\n",
      "        -eye  ELAT ELON [specify eyeball location]\r\n",
      "        -pfr  PLAT PLON OMEGA  [specify pole of finite rotation lat,lon and degrees]\r\n",
      "        -ffr FFILE, specifies series of finite rotations \r\n",
      "           vector in tab delimited file \r\n",
      "        -sr treat poles as sequential rotations \r\n",
      "        -fpp PFILE, specifies series of paleopoles from which\r\n",
      "           euler poles can be calculated: vector in tab delimited file \r\n",
      "        -pt LAT LON,  specify a point to rotate along with continent\r\n",
      "        -fpt PTFILE, specifies file with a series of points to be plotted\r\n",
      "        -res [c,l,i,h] specify resolution (crude, low, intermediate, high]\r\n",
      "        -fmt [png,jpg,svg,pdf] format for saved figure - pdf is default\r\n",
      "        -sav saves plots and quits\r\n",
      "        -prj PROJ,  specify one of the supported projections: (see basemap.py online documentation)\r\n",
      "            aeqd = Azimuthal Equidistant\r\n",
      "            poly = Polyconic\r\n",
      "            gnom = Gnomonic\r\n",
      "            moll = Mollweide\r\n",
      "            tmerc = Transverse Mercator\r\n",
      "            nplaea = North-Polar Lambert Azimuthal\r\n",
      "            mill = Miller Cylindrical\r\n",
      "            merc = Mercator\r\n",
      "            stere = Stereographic\r\n",
      "            npstere = North-Polar Stereographic\r\n",
      "            geos = Geostationary\r\n",
      "            laea = Lambert Azimuthal Equal Area\r\n",
      "            sinu = Sinusoidal\r\n",
      "            spstere = South-Polar Stereographic\r\n",
      "            lcc = Lambert Conformal\r\n",
      "            npaeqd = North-Polar Azimuthal Equidistant\r\n",
      "            eqdc = Equidistant Conic\r\n",
      "            cyl = Cylindrical Equidistant\r\n",
      "            omerc = Oblique Mercator\r\n",
      "            aea = Albers Equal Area\r\n",
      "            spaeqd = South-Polar Azimuthal Equidistant\r\n",
      "            ortho = Orthographic\r\n",
      "            cass= Cassini-Soldner\r\n",
      "            splaea = South-Polar Lambert Azimuthal\r\n",
      "            robin = Robinson\r\n",
      "    \r\n",
      "    DEFAULTS\r\n",
      "        con: nam\r\n",
      "        res:  c\r\n",
      "        prj: mollweide \r\n",
      "        ELAT,ELON = 0,0\r\n",
      "        NB: high resolution or lines can be very slow\r\n",
      "    \r\n",
      "    \r\n"
     ]
    }
   ],
   "source": [
    "!cont_rot.py -h"
   ]
  },
  {
   "cell_type": "markdown",
   "metadata": {},
   "source": [
    "Well that's intimidating....   but we forge on. "
   ]
  },
  {
   "cell_type": "code",
   "execution_count": 79,
   "metadata": {},
   "outputs": [
    {
     "name": "stdout",
     "output_type": "stream",
     "text": [
      "/Users/ltauxe/anaconda3/lib/python3.6/site-packages/mpl_toolkits/basemap/__init__.py:1711: MatplotlibDeprecationWarning: The axesPatch function was deprecated in version 2.1. Use Axes.patch instead.\n",
      "  if limb is not ax.axesPatch:\n",
      "1  saved in  Cont_rot.png\n"
     ]
    }
   ],
   "source": [
    "!cont_rot.py -con af:eur:nam:sam:ind:aus:ant -age 100 -prj moll -sym k. 1 -sav -fmt png"
   ]
  },
  {
   "cell_type": "code",
   "execution_count": 80,
   "metadata": {},
   "outputs": [
    {
     "data": {
      "image/png": "[encoded data removed]",
      "text/plain": [
       "<IPython.core.display.Image object>"
      ]
     },
     "execution_count": 80,
     "metadata": {},
     "output_type": "execute_result"
    }
   ],
   "source": [
    "Image(filename='Cont_rot.png')"
   ]
  },
  {
   "cell_type": "markdown",
   "metadata": {},
   "source": [
    "That is pretty ugly.  We can do it in higher resolution if we have the patience:  "
   ]
  },
  {
   "cell_type": "code",
   "execution_count": 317,
   "metadata": {},
   "outputs": [
    {
     "name": "stdout",
     "output_type": "stream",
     "text": [
      "this resolution will take a while - be patient\n",
      "1  saved in  Cont_rot.png\n"
     ]
    }
   ],
   "source": [
    "!cont_rot.py -con af:eur:nam:sam:ind:aus:ant -age 100 -prj moll -sym k. 1 -sav -fmt png -res i"
   ]
  },
  {
   "cell_type": "code",
   "execution_count": 318,
   "metadata": {},
   "outputs": [
    {
     "data": {
      "image/png": "[encoded data removed]",
      "text/plain": [
       "<IPython.core.display.Image at 0x10f269250>"
      ]
     },
     "execution_count": 318,
     "metadata": {},
     "output_type": "execute_result"
    }
   ],
   "source": [
    "Image(filename='Cont_rot.png')"
   ]
  },
  {
   "cell_type": "markdown",
   "metadata": {},
   "source": [
    "Well, it is better.  We really should be using GPlates, which is beautiful and very functional, but for the purpose of learning about these things, this approach is fine."
   ]
  }
 ],
 "metadata": {
  "kernelspec": {
   "display_name": "Python 3",
   "language": "python",
   "name": "python3"
  },
  "language_info": {
   "codemirror_mode": {
    "name": "ipython",
    "version": 3
   },
   "file_extension": ".py",
   "mimetype": "text/x-python",
   "name": "python",
   "nbconvert_exporter": "python",
   "pygments_lexer": "ipython3",
   "version": "3.6.3"
  }
 },
 "nbformat": 4,
 "nbformat_minor": 1
}
