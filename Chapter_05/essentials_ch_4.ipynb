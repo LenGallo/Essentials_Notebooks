{
 "cells": [
  {
   "cell_type": "markdown",
   "metadata": {},
   "source": [
    "# IPython Notebook for turning in solutions to the problems in the Essentials of Paleomagnetism Textbook by L. Tauxe"
   ]
  },
  {
   "cell_type": "markdown",
   "metadata": {},
   "source": [
    "## Problems in Chapter 4"
   ]
  },
  {
   "cell_type": "markdown",
   "metadata": {},
   "source": [
    "## Problem 1a"
   ]
  },
  {
   "cell_type": "markdown",
   "metadata": {},
   "source": [
    "Self energy density (or demagnetizing energy density) is given by Equation 4.5  in the text and when multiplied by volume we get:  \n",
    "$$E_{self} = -{ {1\\over 2} } \\mu_o N M^2 v. $$  \n",
    "Given that\n",
    "$$\n",
    "\\mu_o = 4 \\pi \\times 10 ^{-7} [H/m]\n",
    "$$\n",
    "From the text we know that $N_a+N_b+N_c = 1$ in SI units, so for a sphere where the axes $a, b, c$ are all equal, \n",
    "$$\n",
    "N = {1\\over 3}\n",
    "$$\n",
    "For magnetite the magnetization is  480 mA/m or\n",
    "$$\n",
    "M= 4.8 \\times 10^5 [A/m].\n",
    "$$\n",
    "and the volume of a sphere is given by\n",
    "$$\n",
    "v= {4\\over 3} \\pi ( {d\\over 2} )^3 [m^3]\n",
    "$$\n",
    "where $d$ is diameter.   Here's a little python script that does this for us:\n"
   ]
  },
  {
   "cell_type": "code",
   "execution_count": 5,
   "metadata": {
    "collapsed": false
   },
   "outputs": [
    {
     "name": "stdout",
     "output_type": "stream",
     "text": [
      "diameter:  1 microns,  self energy:  -2.53e-14  joules\n",
      "diameter:  10 microns,  self energy:  -2.53e-11  joules\n",
      "diameter:  100 microns,  self energy:  -2.53e-08  joules\n"
     ]
    }
   ],
   "source": [
    "import numpy as np # import the fabulous numpy module\n",
    "mu0=4*np.pi*1e-7 # permeability of free space in henries per meter\n",
    "N=1./3.   # demagnetizing factor for  a sphere\n",
    "M=4.8e5   # magnetization of magnetite in A/m\n",
    "diameters=[1e-6,10e-6,100e-6]  # list of diameters in meters that are required for the calculation\n",
    "for d in diameters:\n",
    "    r=d/2. # calculate radius\n",
    "    v=(4./3.)* np.pi*r**3  # calculate volume\n",
    "    E=(-1./2.)*mu0*N*v*M**2 # calculate E_self\n",
    "    print 'diameter: ','%i'%(d*1e6), 'microns,  self energy: ','%8.2e'%(E),' joules'  \n",
    "    # print diameter in microns, self energy in Joules\n",
    "\n"
   ]
  },
  {
   "cell_type": "markdown",
   "metadata": {},
   "source": [
    "## Problem 1b"
   ]
  },
  {
   "cell_type": "markdown",
   "metadata": {},
   "source": [
    "The demagnetizing factor for `nearly spherical particles' is given in the text as: \n",
    "$$\n",
    "N_a = {1\\over 3} [ 1 - {2\\over 5}(2 - {b\\over a} - {c\\over a} )].$ \n",
    "$$\n",
    "For this problem, we can assume that $N_b=N_c$ so we can use the approximation in Equation 4.7 for energy density resulting from shape (multiplied by the volume)  of\n",
    "\n",
    "\n",
    "$$\n",
    "E_{ms} =  {1\\over 2} \\mu_o  N_c M^2 v.\n",
    "$$\n",
    "\n",
    "To get $N_c$, use the formula:  \n",
    "\n",
    "Assuming that $a=4b$ and $b=c$, we get  $N_a$=0.13.  We also know that $N_a+N_b+N_c=1$, hence $N_b=N_c=0.433$.\n",
    "\n",
    "The volume of a prolate ellipsoid is:  $v= {4\\over 3} \\pi b^2 a = 2.62 \\cross 10^{-19}$m$^3$.   Putting it all together we have:\n",
    "\n",
    "$$\n",
    "E_{ms} =   {1\\over 2} \\times 4 \\pi \\times 10^{-7} \\times 0.433 \\times 2.62 \\times 10^{-19} \\cdot (4.8 \\times 10^5)^2$$\n",
    "$$\n",
    "= 1.64 x 10^{-14}J.\n",
    "$$\n",
    "\n",
    "So, here's a little program to do this: \n"
   ]
  },
  {
   "cell_type": "code",
   "execution_count": 6,
   "metadata": {
    "collapsed": false
   },
   "outputs": [
    {
     "name": "stdout",
     "output_type": "stream",
     "text": [
      "E_ms =  1.64e-14  joules\n"
     ]
    }
   ],
   "source": [
    "a,b,c=1e-6,0.25*1e-6,0.25*1e-6 # semi-axes in microns\n",
    "Na=(1./3.)*(1.-(2./5.)*(2-b/a-c/a)) # get Na from formula in lecture notes\n",
    "Nb=(1./2.)*(1.-Na)   # Na+Nb+Nc=1\n",
    "v=(4./3.)*np.pi*a*b*c # volume of ellipsoid - convert lengths to semi-axes\n",
    "Ems=(1./2.)*mu0*(Nb)*v*M**2\n",
    "print 'E_ms = ','%8.2e'%(Ems),' joules'\n"
   ]
  },
  {
   "cell_type": "markdown",
   "metadata": {},
   "source": [
    "## Problem 1c"
   ]
  },
  {
   "cell_type": "markdown",
   "metadata": {},
   "source": [
    "Wall energy is the wall energy density ($E_w = 2\\pi (AK)^{1\\over 2}$) times the wall area, $E_w  \\pi r^2$ joules  and  self energy is ${ {1\\over 2} } \\mu_o N M^2 {4\\over 3} \\pi r^3$.  Taking $N = {1\\over 3}$ for a sphere and setting the two to be equal, we have:\n",
    "\n",
    "$$\n",
    "E_w \\pi r^2 = {2\\over 9 }\\mu_o M^2\\pi r^3\n",
    "$$\n",
    "\n",
    "Solving for $r$  we have\n",
    "\n",
    "$$\n",
    "r_{crit} =  {9\\over 2} {{ E_w}\\over {M^2\\mu_o} }\n",
    "$$\n",
    "\n",
    "Given that $A = 1.3 \\times 10^{-11}$J/m , $K=1.3 \\times 10^4$J/m$^3$, we get $E_w = 2.6 \\times 10^{-3}$ Jm$^{-2}$.  $M=4.8 \\times 10^5$ A/m and $\\mu_o = 4\\pi \\times 10^{-7}$.  So,  $r_{crit} \\sim$ 40 nm.\n",
    "\n",
    " Here's a little script that builds on 1b: \n"
   ]
  },
  {
   "cell_type": "code",
   "execution_count": 7,
   "metadata": {
    "collapsed": false
   },
   "outputs": [
    {
     "name": "stdout",
     "output_type": "stream",
     "text": [
      "\n",
      "\n",
      "Answer for problem 1c:\n",
      "critical radius:  41  nm\n"
     ]
    }
   ],
   "source": [
    "print \"\\n\\nAnswer for problem 1c:\"\n",
    "A=1.33e-11 # A in J/m\n",
    "K=1.35e4 # K1 in J/m^3\n",
    "Ew=2.*np.pi*np.sqrt(A*K) # wall energy\n",
    "rcrit=(9./2.) * Ew/(mu0*M**2)  # equation for critical radius\n",
    "print 'critical radius: ','%i'%(rcrit*1e9),' nm' # print out in nm\n"
   ]
  },
  {
   "cell_type": "markdown",
   "metadata": {},
   "source": [
    "## Problem 2"
   ]
  },
  {
   "cell_type": "markdown",
   "metadata": {},
   "source": [
    "We know that \n",
    "$$\\tau = { {1\\over C}} \\exp {  {Kv}\\over {kT} }$$\n",
    "\n",
    "Rearranging and taking the log of both sides, we get\n",
    "$$\n",
    "\\hbox{ln }( \\tau  C )= { {K {4} \\pi r^3}\\over {3kT} }.\n",
    "$$\n",
    "Solving for $r^3$ gives\n",
    "$$\n",
    "r^3 =   {3\\over 4} { {kT}\\over { K\\pi} }ln \\tau C.\n",
    "$$\n",
    "\n",
    "We  set $k= 1.38 \\times 10^{-23}$J/K (Boltzmann's constant), $T=300$K (room temperature),  $C=10^{10}$s, and $K=1.3 \\times 10^4$J/m$^3$ (the anisotropy constant for magnetite). Knowing that $d=2r$, we can write the script: \n"
   ]
  },
  {
   "cell_type": "code",
   "execution_count": 7,
   "metadata": {
    "collapsed": false
   },
   "outputs": [
    {
     "name": "stdout",
     "output_type": "stream",
     "text": [
      " tau (s)  d (microns)\n",
      "   1e-01   0.023\n",
      "   1e+01   0.025\n",
      "   1e+02   0.026\n",
      "   1e+03   0.026\n",
      "   1e+05   0.028\n",
      "   1e+09   0.030\n",
      "   1e+15   0.033\n"
     ]
    }
   ],
   "source": [
    "k=1.38e-23 # Boltzmann's constant\n",
    "T=300 # room T\n",
    "C=1e10 # frequency factor\n",
    "K=1.3e4 # anisotropy constant for magnetite\n",
    "taus=[.1,10,1e2,1e3,1e5,1e9,1e15]\n",
    "print ' tau (s)  d (microns)'\n",
    "for tau in taus:\n",
    "    r3=((3./4.)*(k*T/(K*np.pi)))*np.log(tau*C) # equation relating r^3 to tau above. \n",
    "    r=r3**(1./3.) # take the cube root\n",
    "    print '%8.0e'%(tau), '  %5.3f'%(2*r*1e6) # print tau (seconds) and d (in microns)"
   ]
  },
  {
   "cell_type": "markdown",
   "metadata": {},
   "source": [
    "You were supposed to notice how extremely sensitive $\\tau$ is to tiny changes in grain size.  "
   ]
  },
  {
   "cell_type": "markdown",
   "metadata": {},
   "source": [
    "## Problem 3a"
   ]
  },
  {
   "cell_type": "markdown",
   "metadata": {},
   "source": [
    "For a highly elongate rod, the magnetization along the long axis ($z$)\n",
    "results in magnetic surface charge only at the ends of the rod. These ends\n",
    "account for a very small percent of total surface area. From this simple logic, we\n",
    "argue that$ N$  along the long axis of the rod  is:  $N_a \\simeq 0$.\n",
    "\n",
    "From the symmetry of the rod, we know that$ N_b = N_c$. (The percent\n",
    "surface area covered by magnetic charges is the same whether the grain is\n",
    "magnetized along $b$  or along the $c$.) From the text we know that\n",
    "$N_a+N_b+N_c=1$.\n",
    "From this and the observations that $N_a\\simeq 0$ and $N_b=N_c$, we can derive:\n",
    "$ N_a+N_b+N_c=1 = 2N_b.\n",
    "$\n",
    "Hence, $N_b={1\\over 2}$.  "
   ]
  },
  {
   "cell_type": "markdown",
   "metadata": {},
   "source": [
    "## Problem 3b"
   ]
  },
  {
   "cell_type": "markdown",
   "metadata": {},
   "source": [
    "From Equation 4.5 in the text, we know that the magnetic field required to overcome  magnetic anisotropy energy barrier is the microscopic coercivity $\\mu_oH_k$.  \n",
    "\n",
    "For shape anisotropy, $\\mu_oH_k= \\Delta N M$.  Here, $\\Delta N$ is about $1\\over 2$, so we have $\\mu_oH_k $ = 0.3 T = 300 mT.  \n"
   ]
  },
  {
   "cell_type": "markdown",
   "metadata": {},
   "source": [
    "## Problem 3c"
   ]
  },
  {
   "cell_type": "markdown",
   "metadata": {},
   "source": [
    "The above answer would be the maximum  microscopic coercivity for magnetite.  "
   ]
  }
 ],
 "metadata": {
  "kernelspec": {
   "display_name": "Python 2",
   "language": "python",
   "name": "python2"
  },
  "language_info": {
   "codemirror_mode": {
    "name": "ipython",
    "version": 2
   },
   "file_extension": ".py",
   "mimetype": "text/x-python",
   "name": "python",
   "nbconvert_exporter": "python",
   "pygments_lexer": "ipython2",
   "version": "2.7.10"
  }
 },
 "nbformat": 4,
 "nbformat_minor": 0
}
