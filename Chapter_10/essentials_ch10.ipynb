{
 "cells": [
  {
   "cell_type": "markdown",
   "metadata": {},
   "source": [
    "# IPython Notebook for turning in solutions to the problems in the Essentials of Paleomagnetism Textbook by L. Tauxe"
   ]
  },
  {
   "cell_type": "markdown",
   "metadata": {},
   "source": [
    "## Problems in Chapter 10"
   ]
  },
  {
   "cell_type": "markdown",
   "metadata": {},
   "source": [
    "## Problem 1a-e"
   ]
  },
  {
   "cell_type": "markdown",
   "metadata": {},
   "source": [
    "First we go to the website: http://earthref.org/doi/10.1016/j.epsl.2010.11.013\n",
    "and download the data by clicking on the icon under the 'Data' column.  Make a new Project Directory and  from the command line, type pmag_gui.py.   Change directory's into this new Project Directory by clicking on the \"change dir\" button.   Unpack the downloaded file and click on the Thellier GUI button.  When you are finished, exit the program. "
   ]
  },
  {
   "cell_type": "code",
   "execution_count": 4,
   "metadata": {
    "collapsed": false
   },
   "outputs": [
    {
     "name": "stdout",
     "output_type": "stream",
     "text": [
      "-I- Importing Pmag GUI dependencies\n",
      "-I- Starting Pmag GUI - please be patient\n",
      "-I- Fetching output frame\n",
      "-I- getting data model, please be patient\n",
      "2016-05-20 12:51:46.191 Python[51836:11402190] plugin com.getdropbox.dropbox.garcon invalidated\n",
      "2016-05-20 12:51:46.191 Python[51836:11400814] plugin com.google.GoogleDrive.FinderSyncAPIExtension invalidated\n",
      "-I- running python script:\n",
      " thellier_gui.py -WD /Users/ltauxe/Documents/courses_current/SIO247_2016/Homework/HW_14/Chapter_10/PS10_1_MagIC\n",
      "-W- WARNING: criteria code sample_int_stdev_opt is not supported by PmagPy GUI. please check\n",
      "-W- WARNING: criteria code check_aniso_ftest is not supported by PmagPy GUI. please check\n",
      "done sort blocks to arai, zij. etc.\n",
      "    self.GUI_RESOLUTION 1.0\n",
      "-I- Read pmag_specimens.txt for previous interpretation\n",
      "-W- WARNING: criteria code sample_int_stdev_opt is not supported by PmagPy GUI. please check\n",
      "-W- WARNING: criteria code check_aniso_ftest is not supported by PmagPy GUI. please check\n",
      "-W- WARNING: criteria code sample_int_sigma_uT is not supported by PmagPy GUI. please check\n",
      "-W- WARNING: criteria code sample_int_stdev_opt is not supported by PmagPy GUI. please check\n",
      "-W- WARNING: criteria code check_aniso_ftest is not supported by PmagPy GUI. please check\n",
      "-W- WARNING: criteria code sample_int_sigma_uT is not supported by PmagPy GUI. please check\n",
      "1  records written to file  /Users/ltauxe/Documents/courses_current/SIO247_2016/Homework/HW_14/Chapter_10/PS10_1_MagIC/pmag_criteria.txt\n",
      "216  records written to file  /Users/ltauxe/Documents/courses_current/SIO247_2016/Homework/HW_14/Chapter_10/PS10_1_MagIC/pmag_specimens.txt\n",
      "15  records written to file  /Users/ltauxe/Documents/courses_current/SIO247_2016/Homework/HW_14/Chapter_10/PS10_1_MagIC/pmag_sites.txt\n",
      "15  records written to file  /Users/ltauxe/Documents/courses_current/SIO247_2016/Homework/HW_14/Chapter_10/PS10_1_MagIC/pmag_results.txt\n"
     ]
    }
   ],
   "source": [
    "!pmag_gui.py"
   ]
  },
  {
   "cell_type": "code",
   "execution_count": 5,
   "metadata": {
    "collapsed": false
   },
   "outputs": [],
   "source": [
    "!mv Chapter_10/PS10_1_MagIC/pmag_sites.txt pmag_sites_ccrit.txt\n"
   ]
  },
  {
   "cell_type": "code",
   "execution_count": 6,
   "metadata": {
    "collapsed": false
   },
   "outputs": [
    {
     "name": "stdout",
     "output_type": "stream",
     "text": [
      "-I- Importing Pmag GUI dependencies\n",
      "-I- Starting Pmag GUI - please be patient\n",
      "-I- Fetching output frame\n",
      "-I- getting data model, please be patient\n",
      "-I- running python script:\n",
      " thellier_gui.py -WD /Users/ltauxe/Documents/courses_current/SIO247_2016/Homework/HW_14\n",
      "done sort blocks to arai, zij. etc.\n",
      "    self.GUI_RESOLUTION 1.0\n",
      "-I- Read pmag_specimens.txt for previous interpretation\n",
      "-I- running python script:\n",
      " thellier_gui.py -WD /Users/ltauxe/Documents/courses_current/SIO247_2016/Homework/HW_14/Chapter_10/PS10_1_MagIC\n",
      "-W- WARNING: criteria code sample_int_stdev_opt is not supported by PmagPy GUI. please check\n",
      "-W- WARNING: criteria code check_aniso_ftest is not supported by PmagPy GUI. please check\n",
      "-W- WARNING: criteria code sample_int_sigma_uT is not supported by PmagPy GUI. please check\n",
      "done sort blocks to arai, zij. etc.\n",
      "    self.GUI_RESOLUTION 1.0\n",
      "-I- Read pmag_specimens.txt for previous interpretation\n",
      "-W- WARNING: criteria code sample_int_stdev_opt is not supported by PmagPy GUI. please check\n",
      "-W- WARNING: criteria code check_aniso_ftest is not supported by PmagPy GUI. please check\n",
      "-W- WARNING: criteria code sample_int_stdev_opt is not supported by PmagPy GUI. please check\n",
      "-W- WARNING: criteria code check_aniso_ftest is not supported by PmagPy GUI. please check\n",
      "2016-05-20 12:59:47.014 Python[52241:11437181] plugin com.google.GoogleDrive.FinderSyncAPIExtension invalidated\n",
      "1  records written to file  /Users/ltauxe/Documents/courses_current/SIO247_2016/Homework/HW_14/Chapter_10/PS10_1_MagIC/pmag_criteria.txt\n",
      "246  records written to file  /Users/ltauxe/Documents/courses_current/SIO247_2016/Homework/HW_14/Chapter_10/PS10_1_MagIC/pmag_specimens.txt\n",
      "16  records written to file  /Users/ltauxe/Documents/courses_current/SIO247_2016/Homework/HW_14/Chapter_10/PS10_1_MagIC/pmag_sites.txt\n",
      "16  records written to file  /Users/ltauxe/Documents/courses_current/SIO247_2016/Homework/HW_14/Chapter_10/PS10_1_MagIC/pmag_results.txt\n"
     ]
    }
   ],
   "source": [
    "!pmag_gui.py\n"
   ]
  },
  {
   "cell_type": "code",
   "execution_count": 7,
   "metadata": {
    "collapsed": true
   },
   "outputs": [],
   "source": [
    "!mv Chapter_10/PS10_1_MagIC/pmag_sites.txt pmag_sites_tta.txt"
   ]
  },
  {
   "cell_type": "code",
   "execution_count": null,
   "metadata": {
    "collapsed": true
   },
   "outputs": [],
   "source": []
  }
 ],
 "metadata": {
  "kernelspec": {
   "display_name": "Python 2",
   "language": "python",
   "name": "python2"
  },
  "language_info": {
   "codemirror_mode": {
    "name": "ipython",
    "version": 2
   },
   "file_extension": ".py",
   "mimetype": "text/x-python",
   "name": "python",
   "nbconvert_exporter": "python",
   "pygments_lexer": "ipython2",
   "version": "2.7.11"
  }
 },
 "nbformat": 4,
 "nbformat_minor": 0
}
