{
 "cells": [
  {
   "cell_type": "markdown",
   "metadata": {},
   "source": [
    "# Jupyter Notebook  problems in the Essentials of Paleomagnetism Textbook by L. Tauxe"
   ]
  },
  {
   "cell_type": "markdown",
   "metadata": {},
   "source": [
    "## Problems in Chapter 10"
   ]
  },
  {
   "cell_type": "markdown",
   "metadata": {},
   "source": [
    "## Problem 1a-e"
   ]
  },
  {
   "cell_type": "markdown",
   "metadata": {},
   "source": [
    "I went to the website: http://earthref.org/doi/10.1002/2016GC006307\n",
    "and downloaded the data file.  I put that into something called _ProjectDirectory_ in my class folder.   "
   ]
  },
  {
   "cell_type": "markdown",
   "metadata": {},
   "source": [
    "Now I need to unpack it with **download_magic.py** as usual.  "
   ]
  },
  {
   "cell_type": "code",
   "execution_count": 1,
   "metadata": {},
   "outputs": [
    {
     "name": "stdout",
     "output_type": "stream",
     "text": [
      "Using default arguments for: -F, -A, -ID, -Fsa, -Fsi, -O, -sep\n",
      "working on:  'contribution'\n",
      "1  records written to file  ProjectDirectory/contribution.txt\n",
      "contribution  data put in  ProjectDirectory/contribution.txt\n",
      "working on:  'locations'\n",
      "8  records written to file  ProjectDirectory/locations.txt\n",
      "locations  data put in  ProjectDirectory/locations.txt\n",
      "working on:  'sites'\n",
      "23  records written to file  ProjectDirectory/sites.txt\n",
      "sites  data put in  ProjectDirectory/sites.txt\n",
      "working on:  'samples'\n",
      "106  records written to file  ProjectDirectory/samples.txt\n",
      "samples  data put in  ProjectDirectory/samples.txt\n",
      "working on:  'specimens'\n",
      "377  records written to file  ProjectDirectory/specimens.txt\n",
      "specimens  data put in  ProjectDirectory/specimens.txt\n",
      "working on:  'measurements'\n",
      "14124  records written to file  ProjectDirectory/measurements.txt\n",
      "measurements  data put in  ProjectDirectory/measurements.txt\n",
      "working on:  'ages'\n",
      "23  records written to file  ProjectDirectory/ages.txt\n",
      "ages  data put in  ProjectDirectory/ages.txt\n"
     ]
    }
   ],
   "source": [
    "!download_magic.py -WD Problem_1 -f magic_contribution_12848.txt"
   ]
  },
  {
   "cell_type": "markdown",
   "metadata": {},
   "source": [
    "I used Thellier GUI and\n",
    "- set the criteria to CCRIT specimen level criteria\n",
    "- ran the auto interpreter to find all the specimen\n",
    "\n",
    "Now I want to copy the interpreter files to my working directory.  This should only be done once, so I've commented out the line, which I would UNcomment after re-running the autointerpreter.  "
   ]
  },
  {
   "cell_type": "code",
   "execution_count": 49,
   "metadata": {},
   "outputs": [],
   "source": [
    "#!mv Problem_1/criteria.txt ccrit_criteria.txt\n",
    "#!mv Problem_1/thellier_interpreter/thellier_interpreter_STDEV-OPT_specimens.txt ccrit_thellier_interpreter.txt\n"
   ]
  },
  {
   "cell_type": "markdown",
   "metadata": {},
   "source": [
    "I set the criteria to the TTA set of selection criteria and repeated the auto interpreter run.  Now I will repeat the copying procedure for the new set of interpretations.  "
   ]
  },
  {
   "cell_type": "code",
   "execution_count": 48,
   "metadata": {},
   "outputs": [],
   "source": [
    "#!mv Problem_1/criteria.txt tta_criteria.txt\n",
    "#!mv Problem_1/thellier_interpreter/thellier_interpreter_STDEV-OPT_specimens.txt tta_thellier_interpreter.txt"
   ]
  },
  {
   "cell_type": "markdown",
   "metadata": {},
   "source": [
    "Now we read in the two interpreter files into Pandas DataFrames.  For this I have to import the Pandas module and know what format the file is in.  So first, I'll take a peek at the datafile to see what's what.  "
   ]
  },
  {
   "cell_type": "code",
   "execution_count": 50,
   "metadata": {},
   "outputs": [
    {
     "name": "stdout",
     "output_type": "stream",
     "text": [
      "tab\tpmag_specimens\r\n",
      "er_sample_name\ter_specimen_name\tspecimen_int_uT\tmeasurement_step_min\tmeasurement_step_min\tspecimen_lab_field_dc\tAnisotropy_correction_factor\tNLT_correction_factor\tCooling_rate_correction_factor\tspecimen_int_n\tspecimen_frac\tspecimen_b_beta\tspecimen_k_prime\tspecimen_int_mad\tspecimen_int_dang\tspecimen_scat\r\n",
      "1991-1992 Eruption Site\tAL2360-1e\t33.63\t100\t500\t25\t1.00\t-\t-\t15.00\t0.89\t0.02\t-0.00\t4.15\t2.80\tPass\r\n",
      "1991-1992 Eruption Site\tAL2742-4a\t29.12\t150\t475\t25\t1.00\t-\t-\t13.00\t0.85\t0.04\t0.13\t4.73\t2.08\tPass\r\n",
      "1991-1992 Eruption Site\tAL2742-4e\t35.38\t100\t475\t25\t1.00\t-\t-\t14.00\t0.91\t0.01\t0.04\t2.68\t2.17\tPass\r\n",
      "1991-1992 Eruption Site\tAL2852-2b\t37.65\t200\t500\t25\t1.00\t-\t-\t13.00\t0.87\t0.03\t0.16\t2.55\t0.80\tPass\r\n",
      "1991-1992 Eruption Site\tAL2852-2d\t37.15\t0\t450\t25\t1.00\t-\t-\t14.00\t0.81\t0.02\t-0.04\t4.67\t2.34\tPass\r\n",
      "1991-1992 Eruption Site\tAL2852-2f\t37.66\t225\t500\t25\t1.00\t-\t-\t12.00\t0.81\t0.02\t-0.00\t1.98\t1.54\tPass\r\n",
      "1991-1992 Eruption Site\tAL3028-2a\t35.09\t100\t475\t25\t1.00\t-\t-\t16.00\t0.79\t0.02\t-0.01\t3.71\t2.69\tPass\r\n",
      "1991-1992 Eruption Site\tAL3028-2b\t35.19\t100\t475\t25\t1.00\t-\t-\t16.00\t0.89\t0.02\t0.13\t3.54\t0.67\tPass\r\n"
     ]
    }
   ],
   "source": [
    "!head ccrit_thellier_interpreter.txt"
   ]
  },
  {
   "cell_type": "markdown",
   "metadata": {},
   "source": [
    "Ah. So it is tab delimited and the header is in the second line, so header=1 (because we start from 0).  "
   ]
  },
  {
   "cell_type": "code",
   "execution_count": 51,
   "metadata": {},
   "outputs": [],
   "source": [
    "import pandas as pd"
   ]
  },
  {
   "cell_type": "code",
   "execution_count": 53,
   "metadata": {},
   "outputs": [],
   "source": [
    "ccrit=pd.read_csv('ccrit_thellier_interpreter.txt',sep='\\t',header =1)\n",
    "tta=pd.read_csv('tta_thellier_interpreter.txt',sep='\\t',header =1)"
   ]
  },
  {
   "cell_type": "markdown",
   "metadata": {},
   "source": [
    "Now for the painful part.  We need to do the following: \n",
    "- create a column named 'specimen' which as the same value as the 'er_specimen_name' column in both  interpreter DataFrames.\n",
    "- read in the specimens.txt file and tie the sample name to the specimen using **pd.merge()**. \n",
    "- read in the samples.txt file and tie the site name to the sample name using **pd.merge()**. \n",
    "- read in the PmagPy_2016.csv file and tie the expected field value to the site using **pd.merge()**.  "
   ]
  },
  {
   "cell_type": "code",
   "execution_count": 54,
   "metadata": {},
   "outputs": [],
   "source": [
    "ccrit['specimen']=ccrit['er_specimen_name'] # do the specimen name\n",
    "tta['specimen']=tta['er_specimen_name']\n"
   ]
  },
  {
   "cell_type": "markdown",
   "metadata": {},
   "source": [
    "Figure out the file formats for the specimen, sample and PmagPy_2016 files and read them in:"
   ]
  },
  {
   "cell_type": "code",
   "execution_count": 55,
   "metadata": {},
   "outputs": [
    {
     "name": "stdout",
     "output_type": "stream",
     "text": [
      "tab\tspecimens\r\n",
      "specimen\tsample\texperiments\tgeologic_classes\tgeologic_types\tlithologies\tmeas_step_max\tmeas_step_min\tmeas_step_unit\tsoftware_packages\tint_abs\tint_corr\tint_corr_aniso\tint_corr_cooling_rate\tint_corr_nlt\tint_n_measurements\tint_treat_dc_field\tint_b_beta\tint_f\tint_frac\tint_g\tint_gmax\tint_k\tint_k_prime\tint_scat\tint_alpha\tint_dang\tint_mad_anc\tint_mad_free\tint_dck\tint_dpal\tint_drats\tint_n_ptrm\tint_dtr\tcitations\tmethod_codes\tresult_quality\tresult_type\r\n",
      "A-1-3\tA\t\t\t\t\t813\t273\tK\tpmagpy-3.17.1: thellier_gui.pmagpy-3.17.1\t4.16e-05\tu\t1.00\t\t\t10\t3.00e-05\t0.04\t0.84\t0.82\t0.86\t0.21\t0.29\t-0.00\t1\t1.23\t1.41\t0.64\t1.23\t5.86\t7.74\t6.73\t4\tnan\tThis study\tLP-PI-TRM:LP-PI-ZI:LP-PI-ALT-PTRM:IE-TT\tg\ti\r\n",
      "A-2-3\tA\t\t\t\t\t873\t273\tK\tpmagpy-3.17.1: thellier_gui.pmagpy-3.17.1\t3.81e-05\tu\t1.00\t\t\t13\t3.00e-05\t0.02\t0.98\t0.98\t0.83\t0.26\t0.14\t0.14\t1\t0.41\t0.51\t0.43\t0.83\t9.46\t11.01\t7.21\t6\tnan\tThis study\tLP-PI-TRM:LP-PI-ZI:LP-PI-ALT-PTRM:IE-TT\tg\ti\r\n",
      "A-3-3\tA\t\t\t\t\t833\t273\tK\tpmagpy-3.17.1: thellier_gui.pmagpy-3.17.1\t3.72e-05\tu\t1.00\t\t\t11\t3.00e-05\t0.04\t0.95\t0.92\t0.87\t0.17\t-0.00\t-0.00\t1\t0.60\t0.72\t0.39\t0.69\t3.47\t6.13\t0.85\t4\tnan\tThis study\tLP-PI-TRM:LP-PI-ZI:LP-PI-ALT-PTRM:IE-TT\tg\ti\r\n",
      "A-5-3\tA\t\t\t\t\t813\t273\tK\tpmagpy-3.17.1: thellier_gui.pmagpy-3.17.1\t3.46e-05\tu\t1.00\t\t\t10\t3.00e-05\t0.05\t0.80\t0.79\t0.85\t0.22\t-0.00\t0.08\t1\t0.85\t0.96\t0.41\t0.85\t4.97\t4.81\t2.11\t4\tnan\tThis study\tLP-PI-TRM:LP-PI-ZI:LP-PI-ALT-PTRM:IE-TT\tg\ti\r\n",
      "AL2360-1e\tAL2360-1\t\t\t\t\t773\t373\tK\tpmagpy-3.17.1: thellier_gui.pmagpy-3.17.1\t3.36e-05\tu\t1.00\t\t\t15\t2.50e-05\t0.02\t0.95\t0.89\t0.87\t0.21\t0.15\t-0.00\t1\t2.35\t2.80\t1.96\t4.15\t4.00\t7.64\t6.32\t7\tnan\tThis study\tLP-PI-TRM:LP-PI-ZI:LP-PI-ALT-PTRM:IE-TT\tg\ti\r\n",
      "AL2742-4a\tAL2742-4\t\t\t\t\t748\t423\tK\tpmagpy-3.17.1: thellier_gui.pmagpy-3.17.1\t2.91e-05\tu\t1.00\t\t\t13\t2.50e-05\t0.04\t0.88\t0.85\t0.88\t0.16\t0.15\t0.13\t1\t1.77\t2.08\t1.98\t4.73\t2.85\t4.79\t4.82\t6\tnan\tThis study\tLP-PI-TRM:LP-PI-ZI:LP-PI-ALT-PTRM:IE-TT\tg\ti\r\n",
      "AL2742-4e\tAL2742-4\t\t\t\t\t748\t373\tK\tpmagpy-3.17.1: thellier_gui.pmagpy-3.17.1\t3.54e-05\tu\t1.00\t\t\t14\t2.50e-05\t0.01\t0.90\t0.91\t0.88\t0.17\t0.03\t0.04\t1\t1.87\t2.17\t1.25\t2.68\t2.09\t1.81\t0.77\t6\t0.21\tThis study\tLP-PI-TRM:LP-PI-ZI:LP-PI-ALT-PTRM:LP-PI-BT-MD:IE-TT\tg\ti\r\n",
      "AL2852-2b\tAL2852-2\t\t\t\t\t773\t473\tK\tpmagpy-3.17.1: thellier_gui.pmagpy-3.17.1\t3.77e-05\tu\t1.00\t\t\t13\t2.50e-05\t0.03\t0.94\t0.87\t0.88\t0.18\t0.16\t0.16\t1\t0.63\t0.80\t1.20\t2.55\t6.38\t0.27\t4.94\t7\tnan\tThis study\tLP-PI-TRM:LP-PI-ZI:LP-PI-ALT-PTRM:IE-TT\tg\ti\r\n"
     ]
    }
   ],
   "source": [
    "!head Problem_1/specimens.txt\n"
   ]
  },
  {
   "cell_type": "code",
   "execution_count": 56,
   "metadata": {},
   "outputs": [],
   "source": [
    "specimens=pd.read_csv('Problem_1/specimens.txt',sep='\\t',header=1)"
   ]
  },
  {
   "cell_type": "code",
   "execution_count": 57,
   "metadata": {},
   "outputs": [
    {
     "name": "stdout",
     "output_type": "stream",
     "text": [
      "tab\tsamples\r\n",
      "sample\tsite\tlat\tlon\tcooling_rate\tgeologic_classes\tgeologic_types\tlithologies\tint_abs\tcitations\r\n",
      "A\tHawaii 1960 Flow\t19.52\t204.19\t\tExtrusive:Igneous\tLava Flow\tBasalt\t\t10.1111/j.1365-246X.2012.05412.x:This study\r\n",
      "AL2360-1\t1991-1992 Eruption Site\t9.8\t255.7\t\tExtrusive:Igneous:Submarine\tGlassy Margin\tSubmarine Basaltic Glass\t\t10.1029/2005GC001141:This study\r\n",
      "AL2742-4\t1991-1992 Eruption Site\t9.8\t255.7\t\tExtrusive:Igneous:Submarine\tGlassy Margin\tSubmarine Basaltic Glass\t\t10.1029/2005GC001141:This study\r\n",
      "AL2770-3\t1991-1992 Eruption Site\t9.8\t255.7\t\tExtrusive:Igneous:Submarine\tGlassy Margin\tSubmarine Basaltic Glass\t\t10.1029/2005GC001141:This study\r\n",
      "AL2844-2\t1991-1992 Eruption Site\t9.8\t255.7\t\tExtrusive:Igneous:Submarine\tGlassy Margin\tSubmarine Basaltic Glass\t\t10.1029/2005GC001141:This study\r\n",
      "AL2852-2\t1991-1992 Eruption Site\t9.8\t255.7\t\tExtrusive:Igneous:Submarine\tGlassy Margin\tSubmarine Basaltic Glass\t\t10.1029/2005GC001141:This study\r\n",
      "AL3023-1\t1991-1992 Eruption Site\t9.8\t255.7\t\tExtrusive:Igneous:Submarine\tGlassy Margin\tSubmarine Basaltic Glass\t\t10.1029/2005GC001141:This study\r\n",
      "AL3028-2\t1991-1992 Eruption Site\t9.8\t255.7\t\tExtrusive:Igneous:Submarine\tGlassy Margin\tSubmarine Basaltic Glass\t\t10.1029/2005GC001141:This study\r\n"
     ]
    }
   ],
   "source": [
    "!head Problem_1/samples.txt\n"
   ]
  },
  {
   "cell_type": "code",
   "execution_count": 58,
   "metadata": {},
   "outputs": [],
   "source": [
    "samples=pd.read_csv('Problem_1/samples.txt',sep='\\t',header=1)"
   ]
  },
  {
   "cell_type": "code",
   "execution_count": 59,
   "metadata": {},
   "outputs": [
    {
     "name": "stdout",
     "output_type": "stream",
     "text": [
      "Study\tdoi\tsite\tlitholoy\tLAT\tLON\tYEAR\tB_exp\r",
      "\r\n",
      "Bowles et al. (2006)\t10.1029/2005GC001141\t1991-1992 Eruption Site\tlava flow\t9.8\t-104.3\t1991\t36.2\r",
      "\r\n",
      "Cromwell et al. (2015)\t10.1016/j.pepi.2014.12.007\thw226\tlava flow\t19.64\t-155.51\t1843\t39.9\r",
      "\r\n",
      "Cromwell et al. (2015)\t10.1016/j.pepi.2014.12.007\thw108\tlava flow\t19.8627\t-155.9085\t1859\t39.3\r",
      "\r\n",
      "Cromwell et al. (2015)\t10.1016/j.pepi.2014.12.007\thw123\tlava flow\t19.07262\t-155.7141\t1907\t37.7\r",
      "\r\n",
      "Cromwell et al. (2015)\t10.1016/j.pepi.2014.12.007\thw126\tlava flow\t19.69\t-155.46\t1935\t36.4\r",
      "\r\n",
      "Cromwell et al. (2015)\t10.1016/j.pepi.2014.12.007\thw128\tlava flow\t19.26\t-155.87\t1950\t36.2\r",
      "\r\n",
      "Cromwell et al. (2015)\t10.1016/j.pepi.2014.12.007\thw241\tlava flow\t19.52\t-155.81\t1960\t36\r",
      "\r\n",
      "Cromwell et al. (2015)\t10.1016/j.pepi.2014.12.007\thw201\tlava flow\t19.36\t-154.97\t1990\t35.2\r",
      "\r\n",
      "Donadini et al. (2007)\t10.1016/j.pepi.2007.10.002\tBR06\tbrick\t60.1\t24.9\t1906\t49.7\r",
      "\r\n"
     ]
    }
   ],
   "source": [
    "!head PmagPy_2016.txt"
   ]
  },
  {
   "cell_type": "code",
   "execution_count": 60,
   "metadata": {},
   "outputs": [],
   "source": [
    "fields=pd.read_csv('PmagPy_2016.txt',sep='\\t',header=0)"
   ]
  },
  {
   "cell_type": "markdown",
   "metadata": {},
   "source": [
    "And merge them together. "
   ]
  },
  {
   "cell_type": "code",
   "execution_count": 61,
   "metadata": {},
   "outputs": [
    {
     "data": {
      "text/html": [
       "<div>\n",
       "<style>\n",
       "    .dataframe thead tr:only-child th {\n",
       "        text-align: right;\n",
       "    }\n",
       "\n",
       "    .dataframe thead th {\n",
       "        text-align: left;\n",
       "    }\n",
       "\n",
       "    .dataframe tbody tr th {\n",
       "        vertical-align: top;\n",
       "    }\n",
       "</style>\n",
       "<table border=\"1\" class=\"dataframe\">\n",
       "  <thead>\n",
       "    <tr style=\"text-align: right;\">\n",
       "      <th></th>\n",
       "      <th>specimen</th>\n",
       "      <th>sample</th>\n",
       "      <th>site</th>\n",
       "      <th>B_exp</th>\n",
       "    </tr>\n",
       "  </thead>\n",
       "  <tbody>\n",
       "    <tr>\n",
       "      <th>0</th>\n",
       "      <td>A-1-3</td>\n",
       "      <td>A</td>\n",
       "      <td>Hawaii 1960 Flow</td>\n",
       "      <td>36.0</td>\n",
       "    </tr>\n",
       "    <tr>\n",
       "      <th>1</th>\n",
       "      <td>A-2-3</td>\n",
       "      <td>A</td>\n",
       "      <td>Hawaii 1960 Flow</td>\n",
       "      <td>36.0</td>\n",
       "    </tr>\n",
       "    <tr>\n",
       "      <th>2</th>\n",
       "      <td>A-3-3</td>\n",
       "      <td>A</td>\n",
       "      <td>Hawaii 1960 Flow</td>\n",
       "      <td>36.0</td>\n",
       "    </tr>\n",
       "    <tr>\n",
       "      <th>3</th>\n",
       "      <td>A-5-3</td>\n",
       "      <td>A</td>\n",
       "      <td>Hawaii 1960 Flow</td>\n",
       "      <td>36.0</td>\n",
       "    </tr>\n",
       "    <tr>\n",
       "      <th>4</th>\n",
       "      <td>B-6-3</td>\n",
       "      <td>B</td>\n",
       "      <td>Hawaii 1960 Flow</td>\n",
       "      <td>36.0</td>\n",
       "    </tr>\n",
       "  </tbody>\n",
       "</table>\n",
       "</div>"
      ],
      "text/plain": [
       "  specimen sample              site  B_exp\n",
       "0    A-1-3      A  Hawaii 1960 Flow   36.0\n",
       "1    A-2-3      A  Hawaii 1960 Flow   36.0\n",
       "2    A-3-3      A  Hawaii 1960 Flow   36.0\n",
       "3    A-5-3      A  Hawaii 1960 Flow   36.0\n",
       "4    B-6-3      B  Hawaii 1960 Flow   36.0"
      ]
     },
     "execution_count": 61,
     "metadata": {},
     "output_type": "execute_result"
    }
   ],
   "source": [
    "specimen_info=pd.merge(specimens,samples,on='sample')\n",
    "specimen_info=pd.merge(specimen_info,fields,on='site')\n",
    "specimen_info=specimen_info[['specimen','sample','site','B_exp']]\n",
    "specimen_info.head()"
   ]
  },
  {
   "cell_type": "code",
   "execution_count": 62,
   "metadata": {},
   "outputs": [],
   "source": [
    "ccrit_merged=pd.merge(ccrit,specimen_info,on='specimen')\n",
    "tta_merged=pd.merge(tta,specimen_info,on='specimen')"
   ]
  },
  {
   "cell_type": "markdown",
   "metadata": {},
   "source": [
    "To make the plots, we must import **matplotlib** as per usual.  "
   ]
  },
  {
   "cell_type": "code",
   "execution_count": 63,
   "metadata": {},
   "outputs": [],
   "source": [
    "import matplotlib\n",
    "import matplotlib.pylab as plt\n",
    "%matplotlib inline"
   ]
  },
  {
   "cell_type": "code",
   "execution_count": 64,
   "metadata": {},
   "outputs": [
    {
     "data": {
      "image/png": "[encoded data removed]",
      "text/plain": [
       "<matplotlib.figure.Figure at 0x10b1e1160>"
      ]
     },
     "metadata": {},
     "output_type": "display_data"
    }
   ],
   "source": [
    "plt.plot(ccrit_merged.B_exp,ccrit_merged.specimen_int_uT,'ro',label='CCRIT')\n",
    "plt.plot(tta_merged.B_exp,tta_merged.specimen_int_uT,'bx',label='TTA')\n",
    "plt.legend()\n",
    "plt.xlabel('Expected Field ($\\mu$T)')\n",
    "plt.ylabel('Estimated Field ($\\mu$T)')\n",
    "plt.plot([30,60],[30,60]);"
   ]
  },
  {
   "cell_type": "markdown",
   "metadata": {},
   "source": [
    "## Problem 2\n",
    "\n",
    "Go to the website, download and unpack the file"
   ]
  },
  {
   "cell_type": "code",
   "execution_count": 66,
   "metadata": {},
   "outputs": [
    {
     "name": "stdout",
     "output_type": "stream",
     "text": [
      "Using default arguments for: -F, -A, -ID, -Fsa, -Fsi, -O, -sep\n",
      "working on:  'contribution'\n",
      "1  records written to file  Problem_2/contribution.txt\n",
      "contribution  data put in  Problem_2/contribution.txt\n",
      "working on:  'locations'\n",
      "1  records written to file  Problem_2/locations.txt\n",
      "locations  data put in  Problem_2/locations.txt\n",
      "working on:  'sites'\n",
      "2332  records written to file  Problem_2/sites.txt\n",
      "sites  data put in  Problem_2/sites.txt\n",
      "working on:  'samples'\n",
      "2325  records written to file  Problem_2/samples.txt\n",
      "samples  data put in  Problem_2/samples.txt\n",
      "working on:  'specimens'\n",
      "6989  records written to file  Problem_2/specimens.txt\n",
      "specimens  data put in  Problem_2/specimens.txt\n",
      "working on:  'measurements'\n",
      "9328  records written to file  Problem_2/measurements.txt\n",
      "measurements  data put in  Problem_2/measurements.txt\n",
      "working on:  'ages'\n",
      "2325  records written to file  Problem_2/ages.txt\n",
      "ages  data put in  Problem_2/ages.txt\n"
     ]
    }
   ],
   "source": [
    "!download_magic.py -WD Problem_2 -f magic_contribution_14132.txt"
   ]
  },
  {
   "cell_type": "markdown",
   "metadata": {},
   "source": [
    "Read in the _measurements.txt_ file and get  a unique list of method codes:"
   ]
  },
  {
   "cell_type": "code",
   "execution_count": 71,
   "metadata": {},
   "outputs": [
    {
     "data": {
      "text/plain": [
       "array(['LT-AF-Z', 'LT-AF-I', 'LT-IRM', 'LP-X'], dtype=object)"
      ]
     },
     "execution_count": 71,
     "metadata": {},
     "output_type": "execute_result"
    }
   ],
   "source": [
    "meas=pd.read_csv('Problem_2/measurements.txt',sep='\\t',header=1)\n",
    "methods=meas.method_codes.unique()\n",
    "methods"
   ]
  },
  {
   "cell_type": "markdown",
   "metadata": {},
   "source": [
    "Looking at the MagIC Method Codes website, these are:\n",
    "- AF demagnetization step\n",
    "- ARM acquisition step\n",
    "- IRM acquisition step\n",
    "- magnetic susceptibility measurement \n",
    "\n",
    "So we can get the ARM, IRM and susceptibility data out like this: "
   ]
  },
  {
   "cell_type": "code",
   "execution_count": 83,
   "metadata": {},
   "outputs": [
    {
     "data": {
      "text/plain": [
       "Index(['citations_x', 'dir_dec_x', 'dir_inc_x', 'experiment_x', 'magn_mass_x',\n",
       "       'meas_temp_x', 'measurement_x', 'method_codes_x', 'quality_x',\n",
       "       'specimen', 'standard_x', 'susc_chi_mass_x', 'treat_ac_field_x',\n",
       "       'treat_dc_field_x', 'treat_temp_x', 'citations_y', 'dir_dec_y',\n",
       "       'dir_inc_y', 'experiment_y', 'magn_mass_y', 'meas_temp_y',\n",
       "       'measurement_y', 'method_codes_y', 'quality_y', 'standard_y',\n",
       "       'susc_chi_mass_y', 'treat_ac_field_y', 'treat_dc_field_y',\n",
       "       'treat_temp_y'],\n",
       "      dtype='object')"
      ]
     },
     "execution_count": 83,
     "metadata": {},
     "output_type": "execute_result"
    }
   ],
   "source": [
    "ARMs=meas[meas.method_codes.str.contains('LT-AF-I')]\n",
    "ARMs=ARMs.dropna(subset=['magn_mass'])\n",
    "IRMs=meas[meas.method_codes.str.contains('LT-IRM')]\n",
    "IRMs=IRMs.dropna(subset=['magn_mass'])\n",
    "RMRMs=pd.merge(ARMs,IRMs, on='specimen')\n",
    "#RMRMs=pd.merge(RMRMs,chis, on='specimen')\n",
    "RMRMs.columns"
   ]
  },
  {
   "cell_type": "code",
   "execution_count": 85,
   "metadata": {},
   "outputs": [
    {
     "data": {
      "image/png": "[encoded data removed]",
      "text/plain": [
       "<matplotlib.figure.Figure at 0x114e26ef0>"
      ]
     },
     "metadata": {},
     "output_type": "display_data"
    }
   ],
   "source": [
    "plt.plot(RMRMs.magn_mass_x,RMRMs.magn_mass_y,'ro');"
   ]
  },
  {
   "cell_type": "code",
   "execution_count": 123,
   "metadata": {},
   "outputs": [
    {
     "data": {
      "text/plain": [
       "Index(['analysts', 'citations_x', 'description', 'dir_dec', 'dir_inc',\n",
       "       'dir_nrm_origin', 'dir_polarity', 'dir_tilt_correction',\n",
       "       'geologic_classes_x', 'geologic_types_x', 'int_corr', 'int_rel',\n",
       "       'lithologies_x', 'method_codes', 'result_quality', 'result_type',\n",
       "       'sample', 'scientists', 'specimen', 'specimen_alternatives', 'volume',\n",
       "       'weight', 'site', 'age', 'age_unit', 'citations_y', 'core_depth',\n",
       "       'geologic_classes_y', 'geologic_types_y', 'lithologies_y', 'location'],\n",
       "      dtype='object')"
      ]
     },
     "execution_count": 123,
     "metadata": {},
     "output_type": "execute_result"
    }
   ],
   "source": [
    "specimens=pd.read_csv('Problem_2/specimens.txt',sep='\\t',header=1)\n",
    "specimens=specimens[specimens.citations.str.contains('Yamazaki')]\n",
    "sites=pd.read_csv('Problem_2/sites.txt',sep='\\t',header=1)\n",
    "RPI_IRM['site']=RPI_IRM['specimen']\n",
    "RPI=pd.merge(RPI_IRM,sites,on='site')\n",
    "RPI.columns"
   ]
  },
  {
   "cell_type": "code",
   "execution_count": 125,
   "metadata": {},
   "outputs": [
    {
     "data": {
      "image/png": "[encoded data removed]",
      "text/plain": [
       "<matplotlib.figure.Figure at 0x10bf6de10>"
      ]
     },
     "metadata": {},
     "output_type": "display_data"
    }
   ],
   "source": [
    "plt.figure(1,(10,5))\n",
    "plt.plot(RPI.age,RPI.int_rel,'b-');"
   ]
  },
  {
   "cell_type": "markdown",
   "metadata": {},
   "source": [
    "The minimal criteria would be a linear relationship between IRM and ARM and a range in concentrations that does not exceed 10.  These data pass these minimal criteria.  But it would be nice to replicate the data somewhere else too.  And Yamazaki has done this recently....  "
   ]
  },
  {
   "cell_type": "code",
   "execution_count": null,
   "metadata": {},
   "outputs": [],
   "source": []
  }
 ],
 "metadata": {
  "kernelspec": {
   "display_name": "Python 3",
   "language": "python",
   "name": "python3"
  },
  "language_info": {
   "codemirror_mode": {
    "name": "ipython",
    "version": 3
   },
   "file_extension": ".py",
   "mimetype": "text/x-python",
   "name": "python",
   "nbconvert_exporter": "python",
   "pygments_lexer": "ipython3",
   "version": "3.6.3"
  }
 },
 "nbformat": 4,
 "nbformat_minor": 1
}
